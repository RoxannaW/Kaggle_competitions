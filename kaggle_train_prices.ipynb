{
 "metadata": {
  "language_info": {
   "codemirror_mode": {
    "name": "ipython",
    "version": 3
   },
   "file_extension": ".py",
   "mimetype": "text/x-python",
   "name": "python",
   "nbconvert_exporter": "python",
   "pygments_lexer": "ipython3",
   "version": "3.8.3-final"
  },
  "orig_nbformat": 2,
  "kernelspec": {
   "name": "python_defaultSpec_1600530415590",
   "display_name": "Python 3.8.3 64-bit"
  }
 },
 "nbformat": 4,
 "nbformat_minor": 2,
 "cells": [
  {
   "cell_type": "code",
   "execution_count": 1,
   "metadata": {},
   "outputs": [],
   "source": [
    "import numpy as np\n",
    "from sklearn.model_selection import GridSearchCV\n",
    "from sklearn.linear_model import LinearRegression\n",
    "from sklearn.preprocessing import PolynomialFeatures\n",
    "from sklearn.svm import SVR\n",
    "from sklearn.ensemble import RandomForestRegressor\n",
    "from sklearn.linear_model import LogisticRegression\n",
    "from sklearn.neighbors import KNeighborsClassifier\n",
    "from sklearn.svm import SVC\n",
    "from sklearn.ensemble import RandomForestClassifier\n",
    "#from xgboost import XGBClassifier\n",
    "\n",
    "def grid(X, y, verbose=None):\n",
    "    \"\"\"\n",
    "    for regression: \n",
    "        option 1 = LinearRegression\n",
    "        option 2 = PolynomialFeatures\n",
    "        option 3 = SVM - SVR\n",
    "        option 4 = RandomForestRegressor\n",
    "        option 5 = LogisticRegression\n",
    "        option 6 = KNeighborsClassifier\n",
    "        option 7 = svm - SVC\n",
    "        option 8 = RandomForestClassifier()\n",
    "        option 9 = XGBClassifier()\n",
    "    \"\"\"\n",
    "    if verbose:\n",
    "        verbose = 10\n",
    "    option = int(input(\"Which model do you want to use? 1 = LinearRegression, 2 = PolynomialFeatures, 3 = SVM - SVR, 4 =  RandomForestRegressor, 5 = LogisticRegression, 6 = KNeighborsClassifier,  7 = svm - SVC, 8 = RandomForestClassifier, 9 = XGBClassifier\"))\n",
    "    \n",
    "    if option == 1:\n",
    "        new_model = LinearRegression()\n",
    "\n",
    "        param_grid = [\n",
    "        {'fit_intercept' : [True, False],\n",
    "            'normalize' : [True, False],\n",
    "            'copy_X' : [True, False]\n",
    "        }\n",
    "        ]\n",
    "        clf = GridSearchCV(new_model, param_grid=param_grid, cv=3, n_jobs=-1, scoring='neg_root_mean_squared_error')\n",
    "\n",
    "        best_clf = clf.fit(X, y)\n",
    "        return best_clf.best_estimator_\n",
    "\n",
    "    elif option == 2:\n",
    "        \n",
    "        new_model = PolynomialFeatures()\n",
    "        X_poly = new_model.fit_transform(X, y)\n",
    "\n",
    "        param_grid = [\n",
    "        {'degree' : np.logspace(2, 4, 6, 8),\n",
    "            'interaction_only' :[True, False],\n",
    "            'include_bias' : [True, False]}\n",
    "        ]\n",
    "\n",
    "        clf = GridSearchCV(new_model, param_grid=param_grid, cv=3, scoring='neg_root_mean_squared_error', n_jobs=-1)\n",
    "        best_clf = clf.fit(X_poly, y)\n",
    "        return best_clf.best_estimator_\n",
    "\n",
    "    elif option == 3:\n",
    "        \n",
    "        new_model = SVR()\n",
    "\n",
    "        param_grid = [\n",
    "        {'kernel' : ['linear', 'poly', 'rbf'],\n",
    "            'degree' : [2, 4, 6],\n",
    "             'C': [0.5, 1.0, 2.0]}\n",
    "        ]\n",
    "\n",
    "        clf = GridSearchCV(new_model, param_grid=param_grid, cv=3, scoring='neg_root_mean_squared_error', verbose=10)\n",
    "        best_clf = clf.fit(X, y)\n",
    "        return best_clf.best_estimator_\n",
    "\n",
    "    elif option == 4:\n",
    "        \n",
    "        new_model = RandomForestRegressor()\n",
    "\n",
    "        param_grid = [\n",
    "        {'n_estimators' : [44, 45, 47, 49, 50, 51, 53, 55],\n",
    "            'max_depth' : [None, 1, 3],\n",
    "            'max_features' : ['auto', 'sqrt', 'log2'],\n",
    "             'warm_start': [True, False],\n",
    "             #'criterion' : ['mse', 'mae'],\n",
    "             'bootstrap' : [True, False],\n",
    "             'oob_score' : [True, False]\n",
    "             }\n",
    "        ]\n",
    "\n",
    "        clf = GridSearchCV(new_model, param_grid=param_grid, cv=3, n_jobs=-1, scoring='neg_root_mean_squared_error', verbose=10)\n",
    "        best_clf = clf.fit(X, y)\n",
    "        return best_clf.best_estimator_\n",
    "    \n",
    "    elif option == 5:\n",
    "        \n",
    "        new_model = LogisticRegression()\n",
    "\n",
    "        param_grid = [\n",
    "        {'penalty' : ['l1', 'l2', 'elasticnet', 'none'],\n",
    "            'C' : np.logspace(0, 4, 10),\n",
    "            'solver' : ['newton-cg', 'lbfgs', 'liblinear', 'sag', 'saga'],\n",
    "             'warm_start': [True, False]}\n",
    "        ]\n",
    "\n",
    "        clf = GridSearchCV(new_model, param_grid=param_grid, cv=3, n_jobs=-1)\n",
    "        best_clf = clf.fit(X, y)\n",
    "        return best_clf.best_estimator_\n",
    "\n",
    "    elif option == 6:\n",
    "        \n",
    "        new_model = KNeighborsClassifier()\n",
    "\n",
    "        param_grid = [\n",
    "        {'n_neighbors' : [7, 8, 9, 10, 11],\n",
    "            'weights' : ['uniform', 'distance'],\n",
    "            'algorithm' : ['auto', 'ball_tree', 'kd_tree', 'brute']}\n",
    "        ]\n",
    "\n",
    "        clf = GridSearchCV(new_model, param_grid=param_grid, cv=3, n_jobs=-1)\n",
    "        best_clf = clf.fit(X, y)\n",
    "        return best_clf.best_estimator_\n",
    "    \n",
    "    elif option == 7:\n",
    "        \n",
    "        new_model = SVC()\n",
    "\n",
    "        param_grid = [\n",
    "        {'kernel' : [7, 8, 9, 10, 11],\n",
    "            'weights' : ['linear', 'poly', 'rbf', 'sigmoid', 'precomputed'],\n",
    "            'C' : [-1, 1, 3]}\n",
    "        ]\n",
    "\n",
    "        clf = GridSearchCV(new_model, param_grid=param_grid, cv=3, n_jobs=-1)\n",
    "        best_clf = clf.fit(X, y)\n",
    "        return best_clf.best_estimator_\n",
    "\n",
    "    elif option == 8:\n",
    "        \n",
    "        new_model = RandomForestClassifier()\n",
    "\n",
    "        param_grid = [\n",
    "        {'n_estimators' : [50, 100, 200],\n",
    "            'criterion' : ['gini', 'entropy'],\n",
    "            'warm_start': [True, False],\n",
    "            'max_features': ['auto', 'sqrt', 'log2']}\n",
    "        ]\n",
    "\n",
    "        clf = GridSearchCV(new_model, param_grid=param_grid, cv=3, n_jobs=-1)\n",
    "        best_clf = clf.fit(X, y)\n",
    "        return best_clf.best_estimator_\n",
    "\n",
    "    elif option == 9:\n",
    "        \n",
    "        new_model = XGBClassifier()\n",
    "\n",
    "        param_grid = [\n",
    "        {'booster' : ['gbtree', 'gblinear','dart'],\n",
    "            'max_delta_step':[0.1, 0, 1.],\n",
    "            'max_depth': [6, 8, 10]}\n",
    "        ]\n",
    "\n",
    "        clf = GridSearchCV(new_model, param_grid=param_grid, cv=3, n_jobs=-1)\n",
    "        best_clf = clf.fit(X, y)\n",
    "        return best_clf.best_estimator_\n",
    "\n",
    "\n",
    "   \n",
    "      "
   ]
  },
  {
   "cell_type": "code",
   "execution_count": 2,
   "metadata": {
    "tags": []
   },
   "outputs": [
    {
     "output_type": "stream",
     "name": "stdout",
     "text": "['c:\\\\Users\\\\Roxan\\\\OneDrive\\\\Documentos\\\\My_map_2\\\\Data-science-bootcamp\\\\Curso\\\\week_10\\\\day5', 'c:\\\\Users\\\\Roxan\\\\.vscode\\\\extensions\\\\ms-python.python-2020.8.109390\\\\pythonFiles\\\\vscode_datascience_helpers\\\\..\\\\.does-not-exist', 'c:\\\\Users\\\\Roxan\\\\.vscode\\\\extensions\\\\ms-python.python-2020.8.109390\\\\pythonFiles', 'c:\\\\Users\\\\Roxan\\\\.vscode\\\\extensions\\\\ms-python.python-2020.8.109390\\\\pythonFiles\\\\lib\\\\python', 'C:\\\\Program Files\\\\Python38\\\\python38.zip', 'C:\\\\Program Files\\\\Python38\\\\DLLs', 'C:\\\\Program Files\\\\Python38\\\\lib', 'C:\\\\Program Files\\\\Python38', '', 'C:\\\\Users\\\\Roxan\\\\AppData\\\\Roaming\\\\Python\\\\Python38\\\\site-packages', 'C:\\\\Users\\\\Roxan\\\\AppData\\\\Roaming\\\\Python\\\\Python38\\\\site-packages\\\\win32', 'C:\\\\Users\\\\Roxan\\\\AppData\\\\Roaming\\\\Python\\\\Python38\\\\site-packages\\\\win32\\\\lib', 'C:\\\\Users\\\\Roxan\\\\AppData\\\\Roaming\\\\Python\\\\Python38\\\\site-packages\\\\Pythonwin', 'C:\\\\Program Files\\\\Python38\\\\lib\\\\site-packages', 'C:\\\\Users\\\\Roxan\\\\AppData\\\\Roaming\\\\Python\\\\Python38\\\\site-packages\\\\IPython\\\\extensions', 'C:\\\\Users\\\\Roxan\\\\.ipython', '../../../']\n"
    }
   ],
   "source": [
    "import pandas as pd\n",
    "import matplotlib.pyplot as plt\n",
    "import sys\n",
    "sys.path.append(\"../../../\")\n",
    "print(sys.path)"
   ]
  },
  {
   "cell_type": "code",
   "execution_count": 14,
   "metadata": {},
   "outputs": [],
   "source": [
    "from Utils.ML_creating_training_models import main\n",
    "from Utils.cleaning_function import my_transformation"
   ]
  },
  {
   "cell_type": "code",
   "execution_count": 4,
   "metadata": {},
   "outputs": [],
   "source": [
    "df = pd.read_csv(\"train_set.csv\")"
   ]
  },
  {
   "cell_type": "code",
   "execution_count": 83,
   "metadata": {},
   "outputs": [
    {
     "output_type": "execute_result",
     "data": {
      "text/plain": "           origin destination train_type train_class        fare  \\\n0      VALLADOLID      MADRID      AVANT     Turista  Adulto ida   \n1          MADRID    ZARAGOZA        AVE     Turista       Promo   \n2          MADRID    ZARAGOZA        AVE     Turista    Flexible   \n3          MADRID   TARRAGONA        AVE     Turista    Flexible   \n4      VALLADOLID      MADRID      AVANT     Turista  Adulto ida   \n...           ...         ...        ...         ...         ...   \n19447    ZARAGOZA      MADRID        AVE     Turista       Promo   \n19448      MADRID   TARRAGONA        AVE     Turista    Flexible   \n19449      MADRID    ZARAGOZA        AVE     Turista    Flexible   \n19450   TARRAGONA      MADRID        AVE     Turista    Flexible   \n19451  VALLADOLID      MADRID      AVANT     Turista  Adulto ida   \n\n       start_date_hour  start_date_minute  end_date_hour  end_date_minute  \\\n0                    8                 45              9               50   \n1                   11                 30             12               51   \n2                    8                 20              9               35   \n3                    7                 30             10                3   \n4                   20                 35             21               40   \n...                ...                ...            ...              ...   \n19447                7                 48              9               15   \n19448                9                 30             11               57   \n19449               16                 30             17               45   \n19450               10                 33             13               10   \n19451               20                 35             21               40   \n\n       date_day  price  \n0             1   31.1  \n1             4   44.0  \n2             2   55.7  \n3             2   82.6  \n4             4   31.1  \n...         ...    ...  \n19447         1   44.0  \n19448         3   82.6  \n19449         4   55.7  \n19450         1   82.6  \n19451         7   31.1  \n\n[19452 rows x 11 columns]",
      "text/html": "<div>\n<style scoped>\n    .dataframe tbody tr th:only-of-type {\n        vertical-align: middle;\n    }\n\n    .dataframe tbody tr th {\n        vertical-align: top;\n    }\n\n    .dataframe thead th {\n        text-align: right;\n    }\n</style>\n<table border=\"1\" class=\"dataframe\">\n  <thead>\n    <tr style=\"text-align: right;\">\n      <th></th>\n      <th>origin</th>\n      <th>destination</th>\n      <th>train_type</th>\n      <th>train_class</th>\n      <th>fare</th>\n      <th>start_date_hour</th>\n      <th>start_date_minute</th>\n      <th>end_date_hour</th>\n      <th>end_date_minute</th>\n      <th>date_day</th>\n      <th>price</th>\n    </tr>\n  </thead>\n  <tbody>\n    <tr>\n      <th>0</th>\n      <td>VALLADOLID</td>\n      <td>MADRID</td>\n      <td>AVANT</td>\n      <td>Turista</td>\n      <td>Adulto ida</td>\n      <td>8</td>\n      <td>45</td>\n      <td>9</td>\n      <td>50</td>\n      <td>1</td>\n      <td>31.1</td>\n    </tr>\n    <tr>\n      <th>1</th>\n      <td>MADRID</td>\n      <td>ZARAGOZA</td>\n      <td>AVE</td>\n      <td>Turista</td>\n      <td>Promo</td>\n      <td>11</td>\n      <td>30</td>\n      <td>12</td>\n      <td>51</td>\n      <td>4</td>\n      <td>44.0</td>\n    </tr>\n    <tr>\n      <th>2</th>\n      <td>MADRID</td>\n      <td>ZARAGOZA</td>\n      <td>AVE</td>\n      <td>Turista</td>\n      <td>Flexible</td>\n      <td>8</td>\n      <td>20</td>\n      <td>9</td>\n      <td>35</td>\n      <td>2</td>\n      <td>55.7</td>\n    </tr>\n    <tr>\n      <th>3</th>\n      <td>MADRID</td>\n      <td>TARRAGONA</td>\n      <td>AVE</td>\n      <td>Turista</td>\n      <td>Flexible</td>\n      <td>7</td>\n      <td>30</td>\n      <td>10</td>\n      <td>3</td>\n      <td>2</td>\n      <td>82.6</td>\n    </tr>\n    <tr>\n      <th>4</th>\n      <td>VALLADOLID</td>\n      <td>MADRID</td>\n      <td>AVANT</td>\n      <td>Turista</td>\n      <td>Adulto ida</td>\n      <td>20</td>\n      <td>35</td>\n      <td>21</td>\n      <td>40</td>\n      <td>4</td>\n      <td>31.1</td>\n    </tr>\n    <tr>\n      <th>...</th>\n      <td>...</td>\n      <td>...</td>\n      <td>...</td>\n      <td>...</td>\n      <td>...</td>\n      <td>...</td>\n      <td>...</td>\n      <td>...</td>\n      <td>...</td>\n      <td>...</td>\n      <td>...</td>\n    </tr>\n    <tr>\n      <th>19447</th>\n      <td>ZARAGOZA</td>\n      <td>MADRID</td>\n      <td>AVE</td>\n      <td>Turista</td>\n      <td>Promo</td>\n      <td>7</td>\n      <td>48</td>\n      <td>9</td>\n      <td>15</td>\n      <td>1</td>\n      <td>44.0</td>\n    </tr>\n    <tr>\n      <th>19448</th>\n      <td>MADRID</td>\n      <td>TARRAGONA</td>\n      <td>AVE</td>\n      <td>Turista</td>\n      <td>Flexible</td>\n      <td>9</td>\n      <td>30</td>\n      <td>11</td>\n      <td>57</td>\n      <td>3</td>\n      <td>82.6</td>\n    </tr>\n    <tr>\n      <th>19449</th>\n      <td>MADRID</td>\n      <td>ZARAGOZA</td>\n      <td>AVE</td>\n      <td>Turista</td>\n      <td>Flexible</td>\n      <td>16</td>\n      <td>30</td>\n      <td>17</td>\n      <td>45</td>\n      <td>4</td>\n      <td>55.7</td>\n    </tr>\n    <tr>\n      <th>19450</th>\n      <td>TARRAGONA</td>\n      <td>MADRID</td>\n      <td>AVE</td>\n      <td>Turista</td>\n      <td>Flexible</td>\n      <td>10</td>\n      <td>33</td>\n      <td>13</td>\n      <td>10</td>\n      <td>1</td>\n      <td>82.6</td>\n    </tr>\n    <tr>\n      <th>19451</th>\n      <td>VALLADOLID</td>\n      <td>MADRID</td>\n      <td>AVANT</td>\n      <td>Turista</td>\n      <td>Adulto ida</td>\n      <td>20</td>\n      <td>35</td>\n      <td>21</td>\n      <td>40</td>\n      <td>7</td>\n      <td>31.1</td>\n    </tr>\n  </tbody>\n</table>\n<p>19452 rows × 11 columns</p>\n</div>"
     },
     "metadata": {},
     "execution_count": 83
    }
   ],
   "source": [
    "df"
   ]
  },
  {
   "cell_type": "code",
   "execution_count": 84,
   "metadata": {
    "tags": []
   },
   "outputs": [
    {
     "output_type": "stream",
     "name": "stdout",
     "text": "Number of null values in each column:\norigin               0\ndestination          0\ntrain_type           0\ntrain_class          0\nfare                 0\nstart_date_hour      0\nstart_date_minute    0\nend_date_hour        0\nend_date_minute      0\ndate_day             0\nprice                0\ndtype: int64\n"
    }
   ],
   "source": [
    "#No NAN values\n",
    "null_counts = df.isnull().sum()\n",
    "print(\"Number of null values in each column:\\n{}\".format(null_counts))"
   ]
  },
  {
   "cell_type": "code",
   "execution_count": 85,
   "metadata": {},
   "outputs": [
    {
     "output_type": "execute_result",
     "data": {
      "text/plain": "(19452, 11)"
     },
     "metadata": {},
     "execution_count": 85
    }
   ],
   "source": [
    "df.shape"
   ]
  },
  {
   "cell_type": "code",
   "execution_count": 86,
   "metadata": {},
   "outputs": [
    {
     "output_type": "execute_result",
     "data": {
      "text/plain": "           origin destination train_type train_class        fare  \\\n45         MADRID   TARRAGONA        AVE     Turista    Flexible   \n61         MADRID   BARCELONA        AVE     Turista     Promo +   \n76         MADRID   BARCELONA        AVE     Turista     Promo +   \n91         MADRID   TARRAGONA        AVE     Turista     Promo +   \n98       ZARAGOZA      MADRID        AVE     Turista    Flexible   \n...           ...         ...        ...         ...         ...   \n19447    ZARAGOZA      MADRID        AVE     Turista       Promo   \n19448      MADRID   TARRAGONA        AVE     Turista    Flexible   \n19449      MADRID    ZARAGOZA        AVE     Turista    Flexible   \n19450   TARRAGONA      MADRID        AVE     Turista    Flexible   \n19451  VALLADOLID      MADRID      AVANT     Turista  Adulto ida   \n\n       start_date_hour  start_date_minute  end_date_hour  end_date_minute  \\\n45                  17                 30             20                3   \n61                   6                 30              9               20   \n76                   6                 30              9               20   \n91                   5                 50              8               17   \n98                   8                 31              9               50   \n...                ...                ...            ...              ...   \n19447                7                 48              9               15   \n19448                9                 30             11               57   \n19449               16                 30             17               45   \n19450               10                 33             13               10   \n19451               20                 35             21               40   \n\n       date_day  price  \n45            5  82.60  \n61            3  91.50  \n76            3  91.50  \n91            5  48.75  \n98            1  55.70  \n...         ...    ...  \n19447         1  44.00  \n19448         3  82.60  \n19449         4  55.70  \n19450         1  82.60  \n19451         7  31.10  \n\n[17891 rows x 11 columns]",
      "text/html": "<div>\n<style scoped>\n    .dataframe tbody tr th:only-of-type {\n        vertical-align: middle;\n    }\n\n    .dataframe tbody tr th {\n        vertical-align: top;\n    }\n\n    .dataframe thead th {\n        text-align: right;\n    }\n</style>\n<table border=\"1\" class=\"dataframe\">\n  <thead>\n    <tr style=\"text-align: right;\">\n      <th></th>\n      <th>origin</th>\n      <th>destination</th>\n      <th>train_type</th>\n      <th>train_class</th>\n      <th>fare</th>\n      <th>start_date_hour</th>\n      <th>start_date_minute</th>\n      <th>end_date_hour</th>\n      <th>end_date_minute</th>\n      <th>date_day</th>\n      <th>price</th>\n    </tr>\n  </thead>\n  <tbody>\n    <tr>\n      <th>45</th>\n      <td>MADRID</td>\n      <td>TARRAGONA</td>\n      <td>AVE</td>\n      <td>Turista</td>\n      <td>Flexible</td>\n      <td>17</td>\n      <td>30</td>\n      <td>20</td>\n      <td>3</td>\n      <td>5</td>\n      <td>82.60</td>\n    </tr>\n    <tr>\n      <th>61</th>\n      <td>MADRID</td>\n      <td>BARCELONA</td>\n      <td>AVE</td>\n      <td>Turista</td>\n      <td>Promo +</td>\n      <td>6</td>\n      <td>30</td>\n      <td>9</td>\n      <td>20</td>\n      <td>3</td>\n      <td>91.50</td>\n    </tr>\n    <tr>\n      <th>76</th>\n      <td>MADRID</td>\n      <td>BARCELONA</td>\n      <td>AVE</td>\n      <td>Turista</td>\n      <td>Promo +</td>\n      <td>6</td>\n      <td>30</td>\n      <td>9</td>\n      <td>20</td>\n      <td>3</td>\n      <td>91.50</td>\n    </tr>\n    <tr>\n      <th>91</th>\n      <td>MADRID</td>\n      <td>TARRAGONA</td>\n      <td>AVE</td>\n      <td>Turista</td>\n      <td>Promo +</td>\n      <td>5</td>\n      <td>50</td>\n      <td>8</td>\n      <td>17</td>\n      <td>5</td>\n      <td>48.75</td>\n    </tr>\n    <tr>\n      <th>98</th>\n      <td>ZARAGOZA</td>\n      <td>MADRID</td>\n      <td>AVE</td>\n      <td>Turista</td>\n      <td>Flexible</td>\n      <td>8</td>\n      <td>31</td>\n      <td>9</td>\n      <td>50</td>\n      <td>1</td>\n      <td>55.70</td>\n    </tr>\n    <tr>\n      <th>...</th>\n      <td>...</td>\n      <td>...</td>\n      <td>...</td>\n      <td>...</td>\n      <td>...</td>\n      <td>...</td>\n      <td>...</td>\n      <td>...</td>\n      <td>...</td>\n      <td>...</td>\n      <td>...</td>\n    </tr>\n    <tr>\n      <th>19447</th>\n      <td>ZARAGOZA</td>\n      <td>MADRID</td>\n      <td>AVE</td>\n      <td>Turista</td>\n      <td>Promo</td>\n      <td>7</td>\n      <td>48</td>\n      <td>9</td>\n      <td>15</td>\n      <td>1</td>\n      <td>44.00</td>\n    </tr>\n    <tr>\n      <th>19448</th>\n      <td>MADRID</td>\n      <td>TARRAGONA</td>\n      <td>AVE</td>\n      <td>Turista</td>\n      <td>Flexible</td>\n      <td>9</td>\n      <td>30</td>\n      <td>11</td>\n      <td>57</td>\n      <td>3</td>\n      <td>82.60</td>\n    </tr>\n    <tr>\n      <th>19449</th>\n      <td>MADRID</td>\n      <td>ZARAGOZA</td>\n      <td>AVE</td>\n      <td>Turista</td>\n      <td>Flexible</td>\n      <td>16</td>\n      <td>30</td>\n      <td>17</td>\n      <td>45</td>\n      <td>4</td>\n      <td>55.70</td>\n    </tr>\n    <tr>\n      <th>19450</th>\n      <td>TARRAGONA</td>\n      <td>MADRID</td>\n      <td>AVE</td>\n      <td>Turista</td>\n      <td>Flexible</td>\n      <td>10</td>\n      <td>33</td>\n      <td>13</td>\n      <td>10</td>\n      <td>1</td>\n      <td>82.60</td>\n    </tr>\n    <tr>\n      <th>19451</th>\n      <td>VALLADOLID</td>\n      <td>MADRID</td>\n      <td>AVANT</td>\n      <td>Turista</td>\n      <td>Adulto ida</td>\n      <td>20</td>\n      <td>35</td>\n      <td>21</td>\n      <td>40</td>\n      <td>7</td>\n      <td>31.10</td>\n    </tr>\n  </tbody>\n</table>\n<p>17891 rows × 11 columns</p>\n</div>"
     },
     "metadata": {},
     "execution_count": 86
    }
   ],
   "source": [
    "df[df.duplicated() == True]"
   ]
  },
  {
   "cell_type": "code",
   "execution_count": 87,
   "metadata": {},
   "outputs": [],
   "source": [
    "df = my_transformation(df=df, norm=False, drop_nans=False, drop_dupl=False, my_decision=0)"
   ]
  },
  {
   "cell_type": "code",
   "execution_count": 44,
   "metadata": {},
   "outputs": [
    {
     "output_type": "execute_result",
     "data": {
      "text/plain": "start_date_hour        int64\nstart_date_minute      int64\nend_date_hour          int64\nend_date_minute        int64\ndate_day               int64\nprice                float64\norigin                 int32\ndestination            int32\ntrain_type             int32\ntrain_class            int32\nfare                   int32\ndtype: object"
     },
     "metadata": {},
     "execution_count": 44
    }
   ],
   "source": [
    "df.dtypes"
   ]
  },
  {
   "cell_type": "code",
   "execution_count": 45,
   "metadata": {},
   "outputs": [],
   "source": [
    "from sklearn.model_selection import train_test_split\n",
    "import seaborn as sns"
   ]
  },
  {
   "cell_type": "code",
   "execution_count": 12,
   "metadata": {},
   "outputs": [
    {
     "output_type": "execute_result",
     "data": {
      "text/plain": "                   start_date_hour  start_date_minute  end_date_hour  \\\nstart_date_hour           1.000000          -0.071659       0.726133   \nstart_date_minute        -0.071659           1.000000      -0.054362   \nend_date_hour             0.726133          -0.054362       1.000000   \nend_date_minute          -0.066545           0.053842      -0.024374   \ndate_day                  0.069821          -0.012634       0.062709   \nprice                    -0.120048          -0.299961       0.029278   \norigin                    0.046794           0.391694      -0.055993   \ndestination               0.059225           0.099270       0.001347   \ntrain_type                0.029034           0.073953       0.086867   \ntrain_class              -0.001475           0.042279       0.000232   \nfare                     -0.045896          -0.229660      -0.066709   \n\n                   end_date_minute  date_day     price    origin  destination  \\\nstart_date_hour          -0.066545  0.069821 -0.120048  0.046794     0.059225   \nstart_date_minute         0.053842 -0.012634 -0.299961  0.391694     0.099270   \nend_date_hour            -0.024374  0.062709  0.029278 -0.055993     0.001347   \nend_date_minute           1.000000  0.004938 -0.066428 -0.071977     0.202670   \ndate_day                  0.004938  1.000000  0.058292  0.020838     0.013341   \nprice                    -0.066428  0.058292  1.000000 -0.444388    -0.455107   \norigin                   -0.071977  0.020838 -0.444388  1.000000    -0.144913   \ndestination               0.202670  0.013341 -0.455107 -0.144913     1.000000   \ntrain_type               -0.009157 -0.032349 -0.218092 -0.045514    -0.015223   \ntrain_class               0.057252 -0.082145 -0.043020 -0.068541     0.080418   \nfare                     -0.061605  0.057783  0.641347 -0.272006    -0.263292   \n\n                   train_type  train_class      fare  \nstart_date_hour      0.029034    -0.001475 -0.045896  \nstart_date_minute    0.073953     0.042279 -0.229660  \nend_date_hour        0.086867     0.000232 -0.066709  \nend_date_minute     -0.009157     0.057252 -0.061605  \ndate_day            -0.032349    -0.082145  0.057783  \nprice               -0.218092    -0.043020  0.641347  \norigin              -0.045514    -0.068541 -0.272006  \ndestination         -0.015223     0.080418 -0.263292  \ntrain_type           1.000000     0.004990 -0.162450  \ntrain_class          0.004990     1.000000 -0.015423  \nfare                -0.162450    -0.015423  1.000000  ",
      "text/html": "<div>\n<style scoped>\n    .dataframe tbody tr th:only-of-type {\n        vertical-align: middle;\n    }\n\n    .dataframe tbody tr th {\n        vertical-align: top;\n    }\n\n    .dataframe thead th {\n        text-align: right;\n    }\n</style>\n<table border=\"1\" class=\"dataframe\">\n  <thead>\n    <tr style=\"text-align: right;\">\n      <th></th>\n      <th>start_date_hour</th>\n      <th>start_date_minute</th>\n      <th>end_date_hour</th>\n      <th>end_date_minute</th>\n      <th>date_day</th>\n      <th>price</th>\n      <th>origin</th>\n      <th>destination</th>\n      <th>train_type</th>\n      <th>train_class</th>\n      <th>fare</th>\n    </tr>\n  </thead>\n  <tbody>\n    <tr>\n      <th>start_date_hour</th>\n      <td>1.000000</td>\n      <td>-0.071659</td>\n      <td>0.726133</td>\n      <td>-0.066545</td>\n      <td>0.069821</td>\n      <td>-0.120048</td>\n      <td>0.046794</td>\n      <td>0.059225</td>\n      <td>0.029034</td>\n      <td>-0.001475</td>\n      <td>-0.045896</td>\n    </tr>\n    <tr>\n      <th>start_date_minute</th>\n      <td>-0.071659</td>\n      <td>1.000000</td>\n      <td>-0.054362</td>\n      <td>0.053842</td>\n      <td>-0.012634</td>\n      <td>-0.299961</td>\n      <td>0.391694</td>\n      <td>0.099270</td>\n      <td>0.073953</td>\n      <td>0.042279</td>\n      <td>-0.229660</td>\n    </tr>\n    <tr>\n      <th>end_date_hour</th>\n      <td>0.726133</td>\n      <td>-0.054362</td>\n      <td>1.000000</td>\n      <td>-0.024374</td>\n      <td>0.062709</td>\n      <td>0.029278</td>\n      <td>-0.055993</td>\n      <td>0.001347</td>\n      <td>0.086867</td>\n      <td>0.000232</td>\n      <td>-0.066709</td>\n    </tr>\n    <tr>\n      <th>end_date_minute</th>\n      <td>-0.066545</td>\n      <td>0.053842</td>\n      <td>-0.024374</td>\n      <td>1.000000</td>\n      <td>0.004938</td>\n      <td>-0.066428</td>\n      <td>-0.071977</td>\n      <td>0.202670</td>\n      <td>-0.009157</td>\n      <td>0.057252</td>\n      <td>-0.061605</td>\n    </tr>\n    <tr>\n      <th>date_day</th>\n      <td>0.069821</td>\n      <td>-0.012634</td>\n      <td>0.062709</td>\n      <td>0.004938</td>\n      <td>1.000000</td>\n      <td>0.058292</td>\n      <td>0.020838</td>\n      <td>0.013341</td>\n      <td>-0.032349</td>\n      <td>-0.082145</td>\n      <td>0.057783</td>\n    </tr>\n    <tr>\n      <th>price</th>\n      <td>-0.120048</td>\n      <td>-0.299961</td>\n      <td>0.029278</td>\n      <td>-0.066428</td>\n      <td>0.058292</td>\n      <td>1.000000</td>\n      <td>-0.444388</td>\n      <td>-0.455107</td>\n      <td>-0.218092</td>\n      <td>-0.043020</td>\n      <td>0.641347</td>\n    </tr>\n    <tr>\n      <th>origin</th>\n      <td>0.046794</td>\n      <td>0.391694</td>\n      <td>-0.055993</td>\n      <td>-0.071977</td>\n      <td>0.020838</td>\n      <td>-0.444388</td>\n      <td>1.000000</td>\n      <td>-0.144913</td>\n      <td>-0.045514</td>\n      <td>-0.068541</td>\n      <td>-0.272006</td>\n    </tr>\n    <tr>\n      <th>destination</th>\n      <td>0.059225</td>\n      <td>0.099270</td>\n      <td>0.001347</td>\n      <td>0.202670</td>\n      <td>0.013341</td>\n      <td>-0.455107</td>\n      <td>-0.144913</td>\n      <td>1.000000</td>\n      <td>-0.015223</td>\n      <td>0.080418</td>\n      <td>-0.263292</td>\n    </tr>\n    <tr>\n      <th>train_type</th>\n      <td>0.029034</td>\n      <td>0.073953</td>\n      <td>0.086867</td>\n      <td>-0.009157</td>\n      <td>-0.032349</td>\n      <td>-0.218092</td>\n      <td>-0.045514</td>\n      <td>-0.015223</td>\n      <td>1.000000</td>\n      <td>0.004990</td>\n      <td>-0.162450</td>\n    </tr>\n    <tr>\n      <th>train_class</th>\n      <td>-0.001475</td>\n      <td>0.042279</td>\n      <td>0.000232</td>\n      <td>0.057252</td>\n      <td>-0.082145</td>\n      <td>-0.043020</td>\n      <td>-0.068541</td>\n      <td>0.080418</td>\n      <td>0.004990</td>\n      <td>1.000000</td>\n      <td>-0.015423</td>\n    </tr>\n    <tr>\n      <th>fare</th>\n      <td>-0.045896</td>\n      <td>-0.229660</td>\n      <td>-0.066709</td>\n      <td>-0.061605</td>\n      <td>0.057783</td>\n      <td>0.641347</td>\n      <td>-0.272006</td>\n      <td>-0.263292</td>\n      <td>-0.162450</td>\n      <td>-0.015423</td>\n      <td>1.000000</td>\n    </tr>\n  </tbody>\n</table>\n</div>"
     },
     "metadata": {},
     "execution_count": 12
    }
   ],
   "source": [
    "df.corr()"
   ]
  },
  {
   "cell_type": "code",
   "execution_count": 6,
   "metadata": {},
   "outputs": [],
   "source": [
    "#Define X, Y\n",
    "\n",
    "y = df.price.values\n",
    "X = df.drop(\"price\", axis=1)"
   ]
  },
  {
   "cell_type": "code",
   "execution_count": 16,
   "metadata": {},
   "outputs": [],
   "source": [
    "#Trying dummies instead of labelencoder\n",
    "X = pd.get_dummies(X).values"
   ]
  },
  {
   "cell_type": "code",
   "execution_count": 51,
   "metadata": {},
   "outputs": [],
   "source": [
    "#Trying PCA\n",
    "from sklearn.decomposition import PCA\n",
    "pca = PCA(n_components=0.99)\n",
    "pca.fit(X)\n",
    "X = pca.transform(X)"
   ]
  },
  {
   "cell_type": "code",
   "execution_count": 34,
   "metadata": {},
   "outputs": [],
   "source": [
    "from sklearn.model_selection import train_test_split\n",
    "X_train, X_test, y_train, y_test = train_test_split(X, y, test_size=0.20)"
   ]
  },
  {
   "cell_type": "code",
   "execution_count": 90,
   "metadata": {},
   "outputs": [
    {
     "output_type": "execute_result",
     "data": {
      "text/plain": "(15561, 10)"
     },
     "metadata": {},
     "execution_count": 90
    }
   ],
   "source": [
    "X_train.shape"
   ]
  },
  {
   "cell_type": "code",
   "execution_count": 10,
   "metadata": {
    "tags": []
   },
   "outputs": [
    {
     "output_type": "stream",
     "name": "stdout",
     "text": "Fitting 3 folds for each of 576 candidates, totalling 1728 fits\n[Parallel(n_jobs=-1)]: Using backend LokyBackend with 8 concurrent workers.\n[Parallel(n_jobs=-1)]: Done   2 tasks      | elapsed:    7.1s\n[Parallel(n_jobs=-1)]: Done   9 tasks      | elapsed:    9.6s\n[Parallel(n_jobs=-1)]: Done  16 tasks      | elapsed:   11.5s\n[Parallel(n_jobs=-1)]: Done  25 tasks      | elapsed:   15.3s\n[Parallel(n_jobs=-1)]: Done  34 tasks      | elapsed:   18.3s\n[Parallel(n_jobs=-1)]: Done  45 tasks      | elapsed:   22.8s\n[Parallel(n_jobs=-1)]: Done  56 tasks      | elapsed:   26.9s\n[Parallel(n_jobs=-1)]: Done  69 tasks      | elapsed:   32.5s\n[Parallel(n_jobs=-1)]: Done  82 tasks      | elapsed:   38.8s\n[Parallel(n_jobs=-1)]: Done  97 tasks      | elapsed:   44.2s\n[Parallel(n_jobs=-1)]: Done 112 tasks      | elapsed:   47.5s\n[Parallel(n_jobs=-1)]: Done 129 tasks      | elapsed:   51.1s\n[Parallel(n_jobs=-1)]: Done 146 tasks      | elapsed:   55.4s\n[Parallel(n_jobs=-1)]: Done 165 tasks      | elapsed:  1.0min\n[Parallel(n_jobs=-1)]: Done 184 tasks      | elapsed:  1.1min\n[Parallel(n_jobs=-1)]: Done 205 tasks      | elapsed:  1.2min\n[Parallel(n_jobs=-1)]: Done 226 tasks      | elapsed:  1.2min\n[Parallel(n_jobs=-1)]: Done 249 tasks      | elapsed:  1.3min\n[Parallel(n_jobs=-1)]: Done 272 tasks      | elapsed:  1.4min\n[Parallel(n_jobs=-1)]: Done 297 tasks      | elapsed:  1.5min\n[Parallel(n_jobs=-1)]: Done 322 tasks      | elapsed:  1.5min\n[Parallel(n_jobs=-1)]: Done 349 tasks      | elapsed:  1.6min\n[Parallel(n_jobs=-1)]: Done 376 tasks      | elapsed:  1.6min\n[Parallel(n_jobs=-1)]: Done 405 tasks      | elapsed:  1.7min\n[Parallel(n_jobs=-1)]: Done 434 tasks      | elapsed:  1.7min\n[Parallel(n_jobs=-1)]: Done 465 tasks      | elapsed:  1.8min\n[Parallel(n_jobs=-1)]: Done 496 tasks      | elapsed:  1.8min\n[Parallel(n_jobs=-1)]: Done 529 tasks      | elapsed:  1.8min\n[Parallel(n_jobs=-1)]: Done 562 tasks      | elapsed:  1.9min\n[Parallel(n_jobs=-1)]: Done 597 tasks      | elapsed:  2.0min\n[Parallel(n_jobs=-1)]: Done 632 tasks      | elapsed:  2.1min\n[Parallel(n_jobs=-1)]: Done 669 tasks      | elapsed:  2.2min\n[Parallel(n_jobs=-1)]: Done 706 tasks      | elapsed:  2.3min\n[Parallel(n_jobs=-1)]: Done 745 tasks      | elapsed:  2.3min\n[Parallel(n_jobs=-1)]: Done 784 tasks      | elapsed:  2.4min\n[Parallel(n_jobs=-1)]: Done 825 tasks      | elapsed:  2.5min\n[Parallel(n_jobs=-1)]: Done 866 tasks      | elapsed:  2.5min\n[Parallel(n_jobs=-1)]: Done 909 tasks      | elapsed:  2.7min\n[Parallel(n_jobs=-1)]: Done 952 tasks      | elapsed:  2.9min\n[Parallel(n_jobs=-1)]: Done 997 tasks      | elapsed:  3.0min\n[Parallel(n_jobs=-1)]: Done 1042 tasks      | elapsed:  3.1min\n[Parallel(n_jobs=-1)]: Done 1089 tasks      | elapsed:  3.2min\n[Parallel(n_jobs=-1)]: Done 1136 tasks      | elapsed:  3.3min\n[Parallel(n_jobs=-1)]: Done 1185 tasks      | elapsed:  3.4min\n[Parallel(n_jobs=-1)]: Done 1234 tasks      | elapsed:  3.4min\n[Parallel(n_jobs=-1)]: Done 1285 tasks      | elapsed:  3.4min\n[Parallel(n_jobs=-1)]: Done 1336 tasks      | elapsed:  3.5min\n[Parallel(n_jobs=-1)]: Done 1389 tasks      | elapsed:  3.5min\n[Parallel(n_jobs=-1)]: Done 1442 tasks      | elapsed:  3.5min\n[Parallel(n_jobs=-1)]: Done 1497 tasks      | elapsed:  3.6min\n[Parallel(n_jobs=-1)]: Done 1552 tasks      | elapsed:  3.7min\n[Parallel(n_jobs=-1)]: Done 1609 tasks      | elapsed:  3.8min\n[Parallel(n_jobs=-1)]: Done 1666 tasks      | elapsed:  3.8min\n[Parallel(n_jobs=-1)]: Done 1728 out of 1728 | elapsed:  3.9min finished\n"
    },
    {
     "output_type": "execute_result",
     "data": {
      "text/plain": "RandomForestRegressor(bootstrap=False, n_estimators=49, warm_start=True)"
     },
     "metadata": {},
     "execution_count": 10
    }
   ],
   "source": [
    "grid(X=X, y=y, verbose=True)"
   ]
  },
  {
   "cell_type": "code",
   "execution_count": 16,
   "metadata": {},
   "outputs": [
    {
     "output_type": "display_data",
     "data": {
      "text/plain": "<Figure size 432x288 with 1 Axes>",
      "image/svg+xml": "<?xml version=\"1.0\" encoding=\"utf-8\" standalone=\"no\"?>\r\n<!DOCTYPE svg PUBLIC \"-//W3C//DTD SVG 1.1//EN\"\r\n  \"http://www.w3.org/Graphics/SVG/1.1/DTD/svg11.dtd\">\r\n<!-- Created with matplotlib (https://matplotlib.org/) -->\r\n<svg height=\"277.318125pt\" version=\"1.1\" viewBox=\"0 0 377.304687 277.318125\" width=\"377.304687pt\" xmlns=\"http://www.w3.org/2000/svg\" xmlns:xlink=\"http://www.w3.org/1999/xlink\">\r\n <defs>\r\n  <style type=\"text/css\">\r\n*{stroke-linecap:butt;stroke-linejoin:round;}\r\n  </style>\r\n </defs>\r\n <g id=\"figure_1\">\r\n  <g id=\"patch_1\">\r\n   <path d=\"M 0 277.318125 \r\nL 377.304687 277.318125 \r\nL 377.304687 0 \r\nL 0 0 \r\nz\r\n\" style=\"fill:none;\"/>\r\n  </g>\r\n  <g id=\"axes_1\">\r\n   <g id=\"patch_2\">\r\n    <path d=\"M 35.304688 253.44 \r\nL 370.104688 253.44 \r\nL 370.104688 36 \r\nL 35.304688 36 \r\nz\r\n\" style=\"fill:#ffffff;\"/>\r\n   </g>\r\n   <g id=\"matplotlib.axis_1\">\r\n    <g id=\"xtick_1\">\r\n     <g id=\"line2d_1\">\r\n      <defs>\r\n       <path d=\"M 0 0 \r\nL 0 3.5 \r\n\" id=\"mc21f788d77\" style=\"stroke:#000000;stroke-width:0.8;\"/>\r\n      </defs>\r\n      <g>\r\n       <use style=\"stroke:#000000;stroke-width:0.8;\" x=\"68.784688\" xlink:href=\"#mc21f788d77\" y=\"253.44\"/>\r\n      </g>\r\n     </g>\r\n     <g id=\"text_1\">\r\n      <!-- LR -->\r\n      <defs>\r\n       <path d=\"M 9.8125 72.90625 \r\nL 19.671875 72.90625 \r\nL 19.671875 8.296875 \r\nL 55.171875 8.296875 \r\nL 55.171875 0 \r\nL 9.8125 0 \r\nz\r\n\" id=\"DejaVuSans-76\"/>\r\n       <path d=\"M 44.390625 34.1875 \r\nQ 47.5625 33.109375 50.5625 29.59375 \r\nQ 53.5625 26.078125 56.59375 19.921875 \r\nL 66.609375 0 \r\nL 56 0 \r\nL 46.6875 18.703125 \r\nQ 43.0625 26.03125 39.671875 28.421875 \r\nQ 36.28125 30.8125 30.421875 30.8125 \r\nL 19.671875 30.8125 \r\nL 19.671875 0 \r\nL 9.8125 0 \r\nL 9.8125 72.90625 \r\nL 32.078125 72.90625 \r\nQ 44.578125 72.90625 50.734375 67.671875 \r\nQ 56.890625 62.453125 56.890625 51.90625 \r\nQ 56.890625 45.015625 53.6875 40.46875 \r\nQ 50.484375 35.9375 44.390625 34.1875 \r\nz\r\nM 19.671875 64.796875 \r\nL 19.671875 38.921875 \r\nL 32.078125 38.921875 \r\nQ 39.203125 38.921875 42.84375 42.21875 \r\nQ 46.484375 45.515625 46.484375 51.90625 \r\nQ 46.484375 58.296875 42.84375 61.546875 \r\nQ 39.203125 64.796875 32.078125 64.796875 \r\nz\r\n\" id=\"DejaVuSans-82\"/>\r\n      </defs>\r\n      <g transform=\"translate(62.524531 268.038437)scale(0.1 -0.1)\">\r\n       <use xlink:href=\"#DejaVuSans-76\"/>\r\n       <use x=\"55.712891\" xlink:href=\"#DejaVuSans-82\"/>\r\n      </g>\r\n     </g>\r\n    </g>\r\n    <g id=\"xtick_2\">\r\n     <g id=\"line2d_2\">\r\n      <g>\r\n       <use style=\"stroke:#000000;stroke-width:0.8;\" x=\"135.744688\" xlink:href=\"#mc21f788d77\" y=\"253.44\"/>\r\n      </g>\r\n     </g>\r\n     <g id=\"text_2\">\r\n      <!-- PR -->\r\n      <defs>\r\n       <path d=\"M 19.671875 64.796875 \r\nL 19.671875 37.40625 \r\nL 32.078125 37.40625 \r\nQ 38.96875 37.40625 42.71875 40.96875 \r\nQ 46.484375 44.53125 46.484375 51.125 \r\nQ 46.484375 57.671875 42.71875 61.234375 \r\nQ 38.96875 64.796875 32.078125 64.796875 \r\nz\r\nM 9.8125 72.90625 \r\nL 32.078125 72.90625 \r\nQ 44.34375 72.90625 50.609375 67.359375 \r\nQ 56.890625 61.8125 56.890625 51.125 \r\nQ 56.890625 40.328125 50.609375 34.8125 \r\nQ 44.34375 29.296875 32.078125 29.296875 \r\nL 19.671875 29.296875 \r\nL 19.671875 0 \r\nL 9.8125 0 \r\nz\r\n\" id=\"DejaVuSans-80\"/>\r\n      </defs>\r\n      <g transform=\"translate(129.255625 268.038437)scale(0.1 -0.1)\">\r\n       <use xlink:href=\"#DejaVuSans-80\"/>\r\n       <use x=\"60.302734\" xlink:href=\"#DejaVuSans-82\"/>\r\n      </g>\r\n     </g>\r\n    </g>\r\n    <g id=\"xtick_3\">\r\n     <g id=\"line2d_3\">\r\n      <g>\r\n       <use style=\"stroke:#000000;stroke-width:0.8;\" x=\"202.704688\" xlink:href=\"#mc21f788d77\" y=\"253.44\"/>\r\n      </g>\r\n     </g>\r\n     <g id=\"text_3\">\r\n      <!-- SVR -->\r\n      <defs>\r\n       <path d=\"M 53.515625 70.515625 \r\nL 53.515625 60.890625 \r\nQ 47.90625 63.578125 42.921875 64.890625 \r\nQ 37.9375 66.21875 33.296875 66.21875 \r\nQ 25.25 66.21875 20.875 63.09375 \r\nQ 16.5 59.96875 16.5 54.203125 \r\nQ 16.5 49.359375 19.40625 46.890625 \r\nQ 22.3125 44.4375 30.421875 42.921875 \r\nL 36.375 41.703125 \r\nQ 47.40625 39.59375 52.65625 34.296875 \r\nQ 57.90625 29 57.90625 20.125 \r\nQ 57.90625 9.515625 50.796875 4.046875 \r\nQ 43.703125 -1.421875 29.984375 -1.421875 \r\nQ 24.8125 -1.421875 18.96875 -0.25 \r\nQ 13.140625 0.921875 6.890625 3.21875 \r\nL 6.890625 13.375 \r\nQ 12.890625 10.015625 18.65625 8.296875 \r\nQ 24.421875 6.59375 29.984375 6.59375 \r\nQ 38.421875 6.59375 43.015625 9.90625 \r\nQ 47.609375 13.234375 47.609375 19.390625 \r\nQ 47.609375 24.75 44.3125 27.78125 \r\nQ 41.015625 30.8125 33.5 32.328125 \r\nL 27.484375 33.5 \r\nQ 16.453125 35.6875 11.515625 40.375 \r\nQ 6.59375 45.0625 6.59375 53.421875 \r\nQ 6.59375 63.09375 13.40625 68.65625 \r\nQ 20.21875 74.21875 32.171875 74.21875 \r\nQ 37.3125 74.21875 42.625 73.28125 \r\nQ 47.953125 72.359375 53.515625 70.515625 \r\nz\r\n\" id=\"DejaVuSans-83\"/>\r\n       <path d=\"M 28.609375 0 \r\nL 0.78125 72.90625 \r\nL 11.078125 72.90625 \r\nL 34.1875 11.53125 \r\nL 57.328125 72.90625 \r\nL 67.578125 72.90625 \r\nL 39.796875 0 \r\nz\r\n\" id=\"DejaVuSans-86\"/>\r\n      </defs>\r\n      <g transform=\"translate(192.635938 268.038437)scale(0.1 -0.1)\">\r\n       <use xlink:href=\"#DejaVuSans-83\"/>\r\n       <use x=\"63.476562\" xlink:href=\"#DejaVuSans-86\"/>\r\n       <use x=\"131.884766\" xlink:href=\"#DejaVuSans-82\"/>\r\n      </g>\r\n     </g>\r\n    </g>\r\n    <g id=\"xtick_4\">\r\n     <g id=\"line2d_4\">\r\n      <g>\r\n       <use style=\"stroke:#000000;stroke-width:0.8;\" x=\"269.664688\" xlink:href=\"#mc21f788d77\" y=\"253.44\"/>\r\n      </g>\r\n     </g>\r\n     <g id=\"text_4\">\r\n      <!-- DTR -->\r\n      <defs>\r\n       <path d=\"M 19.671875 64.796875 \r\nL 19.671875 8.109375 \r\nL 31.59375 8.109375 \r\nQ 46.6875 8.109375 53.6875 14.9375 \r\nQ 60.6875 21.78125 60.6875 36.53125 \r\nQ 60.6875 51.171875 53.6875 57.984375 \r\nQ 46.6875 64.796875 31.59375 64.796875 \r\nz\r\nM 9.8125 72.90625 \r\nL 30.078125 72.90625 \r\nQ 51.265625 72.90625 61.171875 64.09375 \r\nQ 71.09375 55.28125 71.09375 36.53125 \r\nQ 71.09375 17.671875 61.125 8.828125 \r\nQ 51.171875 0 30.078125 0 \r\nL 9.8125 0 \r\nz\r\n\" id=\"DejaVuSans-68\"/>\r\n       <path d=\"M -0.296875 72.90625 \r\nL 61.375 72.90625 \r\nL 61.375 64.59375 \r\nL 35.5 64.59375 \r\nL 35.5 0 \r\nL 25.59375 0 \r\nL 25.59375 64.59375 \r\nL -0.296875 64.59375 \r\nz\r\n\" id=\"DejaVuSans-84\"/>\r\n      </defs>\r\n      <g transform=\"translate(259.286563 268.038437)scale(0.1 -0.1)\">\r\n       <use xlink:href=\"#DejaVuSans-68\"/>\r\n       <use x=\"77.001953\" xlink:href=\"#DejaVuSans-84\"/>\r\n       <use x=\"138.085938\" xlink:href=\"#DejaVuSans-82\"/>\r\n      </g>\r\n     </g>\r\n    </g>\r\n    <g id=\"xtick_5\">\r\n     <g id=\"line2d_5\">\r\n      <g>\r\n       <use style=\"stroke:#000000;stroke-width:0.8;\" x=\"336.624688\" xlink:href=\"#mc21f788d77\" y=\"253.44\"/>\r\n      </g>\r\n     </g>\r\n     <g id=\"text_5\">\r\n      <!-- RFR -->\r\n      <defs>\r\n       <path d=\"M 9.8125 72.90625 \r\nL 51.703125 72.90625 \r\nL 51.703125 64.59375 \r\nL 19.671875 64.59375 \r\nL 19.671875 43.109375 \r\nL 48.578125 43.109375 \r\nL 48.578125 34.8125 \r\nL 19.671875 34.8125 \r\nL 19.671875 0 \r\nL 9.8125 0 \r\nz\r\n\" id=\"DejaVuSans-70\"/>\r\n      </defs>\r\n      <g transform=\"translate(326.800469 268.038437)scale(0.1 -0.1)\">\r\n       <use xlink:href=\"#DejaVuSans-82\"/>\r\n       <use x=\"69.482422\" xlink:href=\"#DejaVuSans-70\"/>\r\n       <use x=\"127.001953\" xlink:href=\"#DejaVuSans-82\"/>\r\n      </g>\r\n     </g>\r\n    </g>\r\n   </g>\r\n   <g id=\"matplotlib.axis_2\">\r\n    <g id=\"ytick_1\">\r\n     <g id=\"line2d_6\">\r\n      <defs>\r\n       <path d=\"M 0 0 \r\nL -3.5 0 \r\n\" id=\"meccd7c22ec\" style=\"stroke:#000000;stroke-width:0.8;\"/>\r\n      </defs>\r\n      <g>\r\n       <use style=\"stroke:#000000;stroke-width:0.8;\" x=\"35.304688\" xlink:href=\"#meccd7c22ec\" y=\"242.085903\"/>\r\n      </g>\r\n     </g>\r\n     <g id=\"text_6\">\r\n      <!-- −25 -->\r\n      <defs>\r\n       <path d=\"M 10.59375 35.5 \r\nL 73.1875 35.5 \r\nL 73.1875 27.203125 \r\nL 10.59375 27.203125 \r\nz\r\n\" id=\"DejaVuSans-8722\"/>\r\n       <path d=\"M 19.1875 8.296875 \r\nL 53.609375 8.296875 \r\nL 53.609375 0 \r\nL 7.328125 0 \r\nL 7.328125 8.296875 \r\nQ 12.9375 14.109375 22.625 23.890625 \r\nQ 32.328125 33.6875 34.8125 36.53125 \r\nQ 39.546875 41.84375 41.421875 45.53125 \r\nQ 43.3125 49.21875 43.3125 52.78125 \r\nQ 43.3125 58.59375 39.234375 62.25 \r\nQ 35.15625 65.921875 28.609375 65.921875 \r\nQ 23.96875 65.921875 18.8125 64.3125 \r\nQ 13.671875 62.703125 7.8125 59.421875 \r\nL 7.8125 69.390625 \r\nQ 13.765625 71.78125 18.9375 73 \r\nQ 24.125 74.21875 28.421875 74.21875 \r\nQ 39.75 74.21875 46.484375 68.546875 \r\nQ 53.21875 62.890625 53.21875 53.421875 \r\nQ 53.21875 48.921875 51.53125 44.890625 \r\nQ 49.859375 40.875 45.40625 35.40625 \r\nQ 44.1875 33.984375 37.640625 27.21875 \r\nQ 31.109375 20.453125 19.1875 8.296875 \r\nz\r\n\" id=\"DejaVuSans-50\"/>\r\n       <path d=\"M 10.796875 72.90625 \r\nL 49.515625 72.90625 \r\nL 49.515625 64.59375 \r\nL 19.828125 64.59375 \r\nL 19.828125 46.734375 \r\nQ 21.96875 47.46875 24.109375 47.828125 \r\nQ 26.265625 48.1875 28.421875 48.1875 \r\nQ 40.625 48.1875 47.75 41.5 \r\nQ 54.890625 34.8125 54.890625 23.390625 \r\nQ 54.890625 11.625 47.5625 5.09375 \r\nQ 40.234375 -1.421875 26.90625 -1.421875 \r\nQ 22.3125 -1.421875 17.546875 -0.640625 \r\nQ 12.796875 0.140625 7.71875 1.703125 \r\nL 7.71875 11.625 \r\nQ 12.109375 9.234375 16.796875 8.0625 \r\nQ 21.484375 6.890625 26.703125 6.890625 \r\nQ 35.15625 6.890625 40.078125 11.328125 \r\nQ 45.015625 15.765625 45.015625 23.390625 \r\nQ 45.015625 31 40.078125 35.4375 \r\nQ 35.15625 39.890625 26.703125 39.890625 \r\nQ 22.75 39.890625 18.8125 39.015625 \r\nQ 14.890625 38.140625 10.796875 36.28125 \r\nz\r\n\" id=\"DejaVuSans-53\"/>\r\n      </defs>\r\n      <g transform=\"translate(7.2 245.885122)scale(0.1 -0.1)\">\r\n       <use xlink:href=\"#DejaVuSans-8722\"/>\r\n       <use x=\"83.789062\" xlink:href=\"#DejaVuSans-50\"/>\r\n       <use x=\"147.412109\" xlink:href=\"#DejaVuSans-53\"/>\r\n      </g>\r\n     </g>\r\n    </g>\r\n    <g id=\"ytick_2\">\r\n     <g id=\"line2d_7\">\r\n      <g>\r\n       <use style=\"stroke:#000000;stroke-width:0.8;\" x=\"35.304688\" xlink:href=\"#meccd7c22ec\" y=\"201.974969\"/>\r\n      </g>\r\n     </g>\r\n     <g id=\"text_7\">\r\n      <!-- −20 -->\r\n      <defs>\r\n       <path d=\"M 31.78125 66.40625 \r\nQ 24.171875 66.40625 20.328125 58.90625 \r\nQ 16.5 51.421875 16.5 36.375 \r\nQ 16.5 21.390625 20.328125 13.890625 \r\nQ 24.171875 6.390625 31.78125 6.390625 \r\nQ 39.453125 6.390625 43.28125 13.890625 \r\nQ 47.125 21.390625 47.125 36.375 \r\nQ 47.125 51.421875 43.28125 58.90625 \r\nQ 39.453125 66.40625 31.78125 66.40625 \r\nz\r\nM 31.78125 74.21875 \r\nQ 44.046875 74.21875 50.515625 64.515625 \r\nQ 56.984375 54.828125 56.984375 36.375 \r\nQ 56.984375 17.96875 50.515625 8.265625 \r\nQ 44.046875 -1.421875 31.78125 -1.421875 \r\nQ 19.53125 -1.421875 13.0625 8.265625 \r\nQ 6.59375 17.96875 6.59375 36.375 \r\nQ 6.59375 54.828125 13.0625 64.515625 \r\nQ 19.53125 74.21875 31.78125 74.21875 \r\nz\r\n\" id=\"DejaVuSans-48\"/>\r\n      </defs>\r\n      <g transform=\"translate(7.2 205.774188)scale(0.1 -0.1)\">\r\n       <use xlink:href=\"#DejaVuSans-8722\"/>\r\n       <use x=\"83.789062\" xlink:href=\"#DejaVuSans-50\"/>\r\n       <use x=\"147.412109\" xlink:href=\"#DejaVuSans-48\"/>\r\n      </g>\r\n     </g>\r\n    </g>\r\n    <g id=\"ytick_3\">\r\n     <g id=\"line2d_8\">\r\n      <g>\r\n       <use style=\"stroke:#000000;stroke-width:0.8;\" x=\"35.304688\" xlink:href=\"#meccd7c22ec\" y=\"161.864036\"/>\r\n      </g>\r\n     </g>\r\n     <g id=\"text_8\">\r\n      <!-- −15 -->\r\n      <defs>\r\n       <path d=\"M 12.40625 8.296875 \r\nL 28.515625 8.296875 \r\nL 28.515625 63.921875 \r\nL 10.984375 60.40625 \r\nL 10.984375 69.390625 \r\nL 28.421875 72.90625 \r\nL 38.28125 72.90625 \r\nL 38.28125 8.296875 \r\nL 54.390625 8.296875 \r\nL 54.390625 0 \r\nL 12.40625 0 \r\nz\r\n\" id=\"DejaVuSans-49\"/>\r\n      </defs>\r\n      <g transform=\"translate(7.2 165.663254)scale(0.1 -0.1)\">\r\n       <use xlink:href=\"#DejaVuSans-8722\"/>\r\n       <use x=\"83.789062\" xlink:href=\"#DejaVuSans-49\"/>\r\n       <use x=\"147.412109\" xlink:href=\"#DejaVuSans-53\"/>\r\n      </g>\r\n     </g>\r\n    </g>\r\n    <g id=\"ytick_4\">\r\n     <g id=\"line2d_9\">\r\n      <g>\r\n       <use style=\"stroke:#000000;stroke-width:0.8;\" x=\"35.304688\" xlink:href=\"#meccd7c22ec\" y=\"121.753102\"/>\r\n      </g>\r\n     </g>\r\n     <g id=\"text_9\">\r\n      <!-- −10 -->\r\n      <g transform=\"translate(7.2 125.552321)scale(0.1 -0.1)\">\r\n       <use xlink:href=\"#DejaVuSans-8722\"/>\r\n       <use x=\"83.789062\" xlink:href=\"#DejaVuSans-49\"/>\r\n       <use x=\"147.412109\" xlink:href=\"#DejaVuSans-48\"/>\r\n      </g>\r\n     </g>\r\n    </g>\r\n    <g id=\"ytick_5\">\r\n     <g id=\"line2d_10\">\r\n      <g>\r\n       <use style=\"stroke:#000000;stroke-width:0.8;\" x=\"35.304688\" xlink:href=\"#meccd7c22ec\" y=\"81.642168\"/>\r\n      </g>\r\n     </g>\r\n     <g id=\"text_10\">\r\n      <!-- −5 -->\r\n      <g transform=\"translate(13.5625 85.441387)scale(0.1 -0.1)\">\r\n       <use xlink:href=\"#DejaVuSans-8722\"/>\r\n       <use x=\"83.789062\" xlink:href=\"#DejaVuSans-53\"/>\r\n      </g>\r\n     </g>\r\n    </g>\r\n    <g id=\"ytick_6\">\r\n     <g id=\"line2d_11\">\r\n      <g>\r\n       <use style=\"stroke:#000000;stroke-width:0.8;\" x=\"35.304688\" xlink:href=\"#meccd7c22ec\" y=\"41.531235\"/>\r\n      </g>\r\n     </g>\r\n     <g id=\"text_11\">\r\n      <!-- 0 -->\r\n      <g transform=\"translate(21.942188 45.330454)scale(0.1 -0.1)\">\r\n       <use xlink:href=\"#DejaVuSans-48\"/>\r\n      </g>\r\n     </g>\r\n    </g>\r\n   </g>\r\n   <g id=\"line2d_12\">\r\n    <path clip-path=\"url(#pa3dc571e55)\" d=\"M 52.044688 243.458686 \r\nL 85.524688 243.458686 \r\nL 85.524688 242.919619 \r\nL 52.044688 242.919619 \r\nL 52.044688 243.458686 \r\n\" style=\"fill:none;stroke:#000000;stroke-linecap:square;\"/>\r\n   </g>\r\n   <g id=\"line2d_13\">\r\n    <path clip-path=\"url(#pa3dc571e55)\" d=\"M 68.784688 243.458686 \r\nL 68.784688 243.556364 \r\n\" style=\"fill:none;stroke:#000000;stroke-linecap:square;\"/>\r\n   </g>\r\n   <g id=\"line2d_14\">\r\n    <path clip-path=\"url(#pa3dc571e55)\" d=\"M 68.784688 242.919619 \r\nL 68.784688 242.585432 \r\n\" style=\"fill:none;stroke:#000000;stroke-linecap:square;\"/>\r\n   </g>\r\n   <g id=\"line2d_15\">\r\n    <path clip-path=\"url(#pa3dc571e55)\" d=\"M 60.414688 243.556364 \r\nL 77.154688 243.556364 \r\n\" style=\"fill:none;stroke:#000000;stroke-linecap:square;\"/>\r\n   </g>\r\n   <g id=\"line2d_16\">\r\n    <path clip-path=\"url(#pa3dc571e55)\" d=\"M 60.414688 242.585432 \r\nL 77.154688 242.585432 \r\n\" style=\"fill:none;stroke:#000000;stroke-linecap:square;\"/>\r\n   </g>\r\n   <g id=\"line2d_17\"/>\r\n   <g id=\"line2d_18\">\r\n    <path clip-path=\"url(#pa3dc571e55)\" d=\"M 119.004688 221.507648 \r\nL 152.484688 221.507648 \r\nL 152.484688 220.264341 \r\nL 119.004688 220.264341 \r\nL 119.004688 221.507648 \r\n\" style=\"fill:none;stroke:#000000;stroke-linecap:square;\"/>\r\n   </g>\r\n   <g id=\"line2d_19\">\r\n    <path clip-path=\"url(#pa3dc571e55)\" d=\"M 135.744688 221.507648 \r\nL 135.744688 221.74549 \r\n\" style=\"fill:none;stroke:#000000;stroke-linecap:square;\"/>\r\n   </g>\r\n   <g id=\"line2d_20\">\r\n    <path clip-path=\"url(#pa3dc571e55)\" d=\"M 135.744688 220.264341 \r\nL 135.744688 220.264341 \r\n\" style=\"fill:none;stroke:#000000;stroke-linecap:square;\"/>\r\n   </g>\r\n   <g id=\"line2d_21\">\r\n    <path clip-path=\"url(#pa3dc571e55)\" d=\"M 127.374688 221.74549 \r\nL 144.114688 221.74549 \r\n\" style=\"fill:none;stroke:#000000;stroke-linecap:square;\"/>\r\n   </g>\r\n   <g id=\"line2d_22\">\r\n    <path clip-path=\"url(#pa3dc571e55)\" d=\"M 127.374688 220.264341 \r\nL 144.114688 220.264341 \r\n\" style=\"fill:none;stroke:#000000;stroke-linecap:square;\"/>\r\n   </g>\r\n   <g id=\"line2d_23\">\r\n    <defs>\r\n     <path d=\"M 0 3 \r\nC 0.795609 3 1.55874 2.683901 2.12132 2.12132 \r\nC 2.683901 1.55874 3 0.795609 3 0 \r\nC 3 -0.795609 2.683901 -1.55874 2.12132 -2.12132 \r\nC 1.55874 -2.683901 0.795609 -3 0 -3 \r\nC -0.795609 -3 -1.55874 -2.683901 -2.12132 -2.12132 \r\nC -2.683901 -1.55874 -3 -0.795609 -3 0 \r\nC -3 0.795609 -2.683901 1.55874 -2.12132 2.12132 \r\nC -1.55874 2.683901 -0.795609 3 0 3 \r\nz\r\n\" id=\"md0a7064dfe\" style=\"stroke:#000000;\"/>\r\n    </defs>\r\n    <g clip-path=\"url(#pa3dc571e55)\">\r\n     <use style=\"fill-opacity:0;stroke:#000000;\" x=\"135.744688\" xlink:href=\"#md0a7064dfe\" y=\"217.895115\"/>\r\n    </g>\r\n   </g>\r\n   <g id=\"line2d_24\">\r\n    <path clip-path=\"url(#pa3dc571e55)\" d=\"M 185.964688 221.598424 \r\nL 219.444688 221.598424 \r\nL 219.444688 218.440012 \r\nL 185.964688 218.440012 \r\nL 185.964688 221.598424 \r\n\" style=\"fill:none;stroke:#000000;stroke-linecap:square;\"/>\r\n   </g>\r\n   <g id=\"line2d_25\">\r\n    <path clip-path=\"url(#pa3dc571e55)\" d=\"M 202.704688 221.598424 \r\nL 202.704688 221.63605 \r\n\" style=\"fill:none;stroke:#000000;stroke-linecap:square;\"/>\r\n   </g>\r\n   <g id=\"line2d_26\">\r\n    <path clip-path=\"url(#pa3dc571e55)\" d=\"M 202.704688 218.440012 \r\nL 202.704688 215.023564 \r\n\" style=\"fill:none;stroke:#000000;stroke-linecap:square;\"/>\r\n   </g>\r\n   <g id=\"line2d_27\">\r\n    <path clip-path=\"url(#pa3dc571e55)\" d=\"M 194.334688 221.63605 \r\nL 211.074688 221.63605 \r\n\" style=\"fill:none;stroke:#000000;stroke-linecap:square;\"/>\r\n   </g>\r\n   <g id=\"line2d_28\">\r\n    <path clip-path=\"url(#pa3dc571e55)\" d=\"M 194.334688 215.023564 \r\nL 211.074688 215.023564 \r\n\" style=\"fill:none;stroke:#000000;stroke-linecap:square;\"/>\r\n   </g>\r\n   <g id=\"line2d_29\"/>\r\n   <g id=\"line2d_30\">\r\n    <path clip-path=\"url(#pa3dc571e55)\" d=\"M 252.924688 52.063768 \r\nL 286.404688 52.063768 \r\nL 286.404688 47.34201 \r\nL 252.924688 47.34201 \r\nL 252.924688 52.063768 \r\n\" style=\"fill:none;stroke:#000000;stroke-linecap:square;\"/>\r\n   </g>\r\n   <g id=\"line2d_31\">\r\n    <path clip-path=\"url(#pa3dc571e55)\" d=\"M 269.664688 52.063768 \r\nL 269.664688 54.493932 \r\n\" style=\"fill:none;stroke:#000000;stroke-linecap:square;\"/>\r\n   </g>\r\n   <g id=\"line2d_32\">\r\n    <path clip-path=\"url(#pa3dc571e55)\" d=\"M 269.664688 47.34201 \r\nL 269.664688 45.883636 \r\n\" style=\"fill:none;stroke:#000000;stroke-linecap:square;\"/>\r\n   </g>\r\n   <g id=\"line2d_33\">\r\n    <path clip-path=\"url(#pa3dc571e55)\" d=\"M 261.294688 54.493932 \r\nL 278.034688 54.493932 \r\n\" style=\"fill:none;stroke:#000000;stroke-linecap:square;\"/>\r\n   </g>\r\n   <g id=\"line2d_34\">\r\n    <path clip-path=\"url(#pa3dc571e55)\" d=\"M 261.294688 45.883636 \r\nL 278.034688 45.883636 \r\n\" style=\"fill:none;stroke:#000000;stroke-linecap:square;\"/>\r\n   </g>\r\n   <g id=\"line2d_35\"/>\r\n   <g id=\"line2d_36\">\r\n    <path clip-path=\"url(#pa3dc571e55)\" d=\"M 319.884688 51.690653 \r\nL 353.364688 51.690653 \r\nL 353.364688 49.035341 \r\nL 319.884688 49.035341 \r\nL 319.884688 51.690653 \r\n\" style=\"fill:none;stroke:#000000;stroke-linecap:square;\"/>\r\n   </g>\r\n   <g id=\"line2d_37\">\r\n    <path clip-path=\"url(#pa3dc571e55)\" d=\"M 336.624688 51.690653 \r\nL 336.624688 52.393637 \r\n\" style=\"fill:none;stroke:#000000;stroke-linecap:square;\"/>\r\n   </g>\r\n   <g id=\"line2d_38\">\r\n    <path clip-path=\"url(#pa3dc571e55)\" d=\"M 336.624688 49.035341 \r\nL 336.624688 47.729245 \r\n\" style=\"fill:none;stroke:#000000;stroke-linecap:square;\"/>\r\n   </g>\r\n   <g id=\"line2d_39\">\r\n    <path clip-path=\"url(#pa3dc571e55)\" d=\"M 328.254688 52.393637 \r\nL 344.994687 52.393637 \r\n\" style=\"fill:none;stroke:#000000;stroke-linecap:square;\"/>\r\n   </g>\r\n   <g id=\"line2d_40\">\r\n    <path clip-path=\"url(#pa3dc571e55)\" d=\"M 328.254688 47.729245 \r\nL 344.994687 47.729245 \r\n\" style=\"fill:none;stroke:#000000;stroke-linecap:square;\"/>\r\n   </g>\r\n   <g id=\"line2d_41\"/>\r\n   <g id=\"line2d_42\">\r\n    <path clip-path=\"url(#pa3dc571e55)\" d=\"M 52.044688 243.228571 \r\nL 85.524688 243.228571 \r\n\" style=\"fill:none;stroke:#ff7f0e;stroke-linecap:square;\"/>\r\n   </g>\r\n   <g id=\"line2d_43\">\r\n    <path clip-path=\"url(#pa3dc571e55)\" d=\"M 119.004688 221.241225 \r\nL 152.484688 221.241225 \r\n\" style=\"fill:none;stroke:#ff7f0e;stroke-linecap:square;\"/>\r\n   </g>\r\n   <g id=\"line2d_44\">\r\n    <path clip-path=\"url(#pa3dc571e55)\" d=\"M 185.964688 220.582355 \r\nL 219.444688 220.582355 \r\n\" style=\"fill:none;stroke:#ff7f0e;stroke-linecap:square;\"/>\r\n   </g>\r\n   <g id=\"line2d_45\">\r\n    <path clip-path=\"url(#pa3dc571e55)\" d=\"M 252.924688 49.540923 \r\nL 286.404688 49.540923 \r\n\" style=\"fill:none;stroke:#ff7f0e;stroke-linecap:square;\"/>\r\n   </g>\r\n   <g id=\"line2d_46\">\r\n    <path clip-path=\"url(#pa3dc571e55)\" d=\"M 319.884688 50.463515 \r\nL 353.364688 50.463515 \r\n\" style=\"fill:none;stroke:#ff7f0e;stroke-linecap:square;\"/>\r\n   </g>\r\n   <g id=\"patch_3\">\r\n    <path d=\"M 35.304688 253.44 \r\nL 35.304688 36 \r\n\" style=\"fill:none;stroke:#000000;stroke-linecap:square;stroke-linejoin:miter;stroke-width:0.8;\"/>\r\n   </g>\r\n   <g id=\"patch_4\">\r\n    <path d=\"M 370.104688 253.44 \r\nL 370.104688 36 \r\n\" style=\"fill:none;stroke:#000000;stroke-linecap:square;stroke-linejoin:miter;stroke-width:0.8;\"/>\r\n   </g>\r\n   <g id=\"patch_5\">\r\n    <path d=\"M 35.304688 253.44 \r\nL 370.104688 253.44 \r\n\" style=\"fill:none;stroke:#000000;stroke-linecap:square;stroke-linejoin:miter;stroke-width:0.8;\"/>\r\n   </g>\r\n   <g id=\"patch_6\">\r\n    <path d=\"M 35.304688 36 \r\nL 370.104688 36 \r\n\" style=\"fill:none;stroke:#000000;stroke-linecap:square;stroke-linejoin:miter;stroke-width:0.8;\"/>\r\n   </g>\r\n  </g>\r\n  <g id=\"text_12\">\r\n   <!-- Algorithm Comparison -->\r\n   <defs>\r\n    <path d=\"M 34.1875 63.1875 \r\nL 20.796875 26.90625 \r\nL 47.609375 26.90625 \r\nz\r\nM 28.609375 72.90625 \r\nL 39.796875 72.90625 \r\nL 67.578125 0 \r\nL 57.328125 0 \r\nL 50.6875 18.703125 \r\nL 17.828125 18.703125 \r\nL 11.1875 0 \r\nL 0.78125 0 \r\nz\r\n\" id=\"DejaVuSans-65\"/>\r\n    <path d=\"M 9.421875 75.984375 \r\nL 18.40625 75.984375 \r\nL 18.40625 0 \r\nL 9.421875 0 \r\nz\r\n\" id=\"DejaVuSans-108\"/>\r\n    <path d=\"M 45.40625 27.984375 \r\nQ 45.40625 37.75 41.375 43.109375 \r\nQ 37.359375 48.484375 30.078125 48.484375 \r\nQ 22.859375 48.484375 18.828125 43.109375 \r\nQ 14.796875 37.75 14.796875 27.984375 \r\nQ 14.796875 18.265625 18.828125 12.890625 \r\nQ 22.859375 7.515625 30.078125 7.515625 \r\nQ 37.359375 7.515625 41.375 12.890625 \r\nQ 45.40625 18.265625 45.40625 27.984375 \r\nz\r\nM 54.390625 6.78125 \r\nQ 54.390625 -7.171875 48.1875 -13.984375 \r\nQ 42 -20.796875 29.203125 -20.796875 \r\nQ 24.46875 -20.796875 20.265625 -20.09375 \r\nQ 16.0625 -19.390625 12.109375 -17.921875 \r\nL 12.109375 -9.1875 \r\nQ 16.0625 -11.328125 19.921875 -12.34375 \r\nQ 23.78125 -13.375 27.78125 -13.375 \r\nQ 36.625 -13.375 41.015625 -8.765625 \r\nQ 45.40625 -4.15625 45.40625 5.171875 \r\nL 45.40625 9.625 \r\nQ 42.625 4.78125 38.28125 2.390625 \r\nQ 33.9375 0 27.875 0 \r\nQ 17.828125 0 11.671875 7.65625 \r\nQ 5.515625 15.328125 5.515625 27.984375 \r\nQ 5.515625 40.671875 11.671875 48.328125 \r\nQ 17.828125 56 27.875 56 \r\nQ 33.9375 56 38.28125 53.609375 \r\nQ 42.625 51.21875 45.40625 46.390625 \r\nL 45.40625 54.6875 \r\nL 54.390625 54.6875 \r\nz\r\n\" id=\"DejaVuSans-103\"/>\r\n    <path d=\"M 30.609375 48.390625 \r\nQ 23.390625 48.390625 19.1875 42.75 \r\nQ 14.984375 37.109375 14.984375 27.296875 \r\nQ 14.984375 17.484375 19.15625 11.84375 \r\nQ 23.34375 6.203125 30.609375 6.203125 \r\nQ 37.796875 6.203125 41.984375 11.859375 \r\nQ 46.1875 17.53125 46.1875 27.296875 \r\nQ 46.1875 37.015625 41.984375 42.703125 \r\nQ 37.796875 48.390625 30.609375 48.390625 \r\nz\r\nM 30.609375 56 \r\nQ 42.328125 56 49.015625 48.375 \r\nQ 55.71875 40.765625 55.71875 27.296875 \r\nQ 55.71875 13.875 49.015625 6.21875 \r\nQ 42.328125 -1.421875 30.609375 -1.421875 \r\nQ 18.84375 -1.421875 12.171875 6.21875 \r\nQ 5.515625 13.875 5.515625 27.296875 \r\nQ 5.515625 40.765625 12.171875 48.375 \r\nQ 18.84375 56 30.609375 56 \r\nz\r\n\" id=\"DejaVuSans-111\"/>\r\n    <path d=\"M 41.109375 46.296875 \r\nQ 39.59375 47.171875 37.8125 47.578125 \r\nQ 36.03125 48 33.890625 48 \r\nQ 26.265625 48 22.1875 43.046875 \r\nQ 18.109375 38.09375 18.109375 28.8125 \r\nL 18.109375 0 \r\nL 9.078125 0 \r\nL 9.078125 54.6875 \r\nL 18.109375 54.6875 \r\nL 18.109375 46.1875 \r\nQ 20.953125 51.171875 25.484375 53.578125 \r\nQ 30.03125 56 36.53125 56 \r\nQ 37.453125 56 38.578125 55.875 \r\nQ 39.703125 55.765625 41.0625 55.515625 \r\nz\r\n\" id=\"DejaVuSans-114\"/>\r\n    <path d=\"M 9.421875 54.6875 \r\nL 18.40625 54.6875 \r\nL 18.40625 0 \r\nL 9.421875 0 \r\nz\r\nM 9.421875 75.984375 \r\nL 18.40625 75.984375 \r\nL 18.40625 64.59375 \r\nL 9.421875 64.59375 \r\nz\r\n\" id=\"DejaVuSans-105\"/>\r\n    <path d=\"M 18.3125 70.21875 \r\nL 18.3125 54.6875 \r\nL 36.8125 54.6875 \r\nL 36.8125 47.703125 \r\nL 18.3125 47.703125 \r\nL 18.3125 18.015625 \r\nQ 18.3125 11.328125 20.140625 9.421875 \r\nQ 21.96875 7.515625 27.59375 7.515625 \r\nL 36.8125 7.515625 \r\nL 36.8125 0 \r\nL 27.59375 0 \r\nQ 17.1875 0 13.234375 3.875 \r\nQ 9.28125 7.765625 9.28125 18.015625 \r\nL 9.28125 47.703125 \r\nL 2.6875 47.703125 \r\nL 2.6875 54.6875 \r\nL 9.28125 54.6875 \r\nL 9.28125 70.21875 \r\nz\r\n\" id=\"DejaVuSans-116\"/>\r\n    <path d=\"M 54.890625 33.015625 \r\nL 54.890625 0 \r\nL 45.90625 0 \r\nL 45.90625 32.71875 \r\nQ 45.90625 40.484375 42.875 44.328125 \r\nQ 39.84375 48.1875 33.796875 48.1875 \r\nQ 26.515625 48.1875 22.3125 43.546875 \r\nQ 18.109375 38.921875 18.109375 30.90625 \r\nL 18.109375 0 \r\nL 9.078125 0 \r\nL 9.078125 75.984375 \r\nL 18.109375 75.984375 \r\nL 18.109375 46.1875 \r\nQ 21.34375 51.125 25.703125 53.5625 \r\nQ 30.078125 56 35.796875 56 \r\nQ 45.21875 56 50.046875 50.171875 \r\nQ 54.890625 44.34375 54.890625 33.015625 \r\nz\r\n\" id=\"DejaVuSans-104\"/>\r\n    <path d=\"M 52 44.1875 \r\nQ 55.375 50.25 60.0625 53.125 \r\nQ 64.75 56 71.09375 56 \r\nQ 79.640625 56 84.28125 50.015625 \r\nQ 88.921875 44.046875 88.921875 33.015625 \r\nL 88.921875 0 \r\nL 79.890625 0 \r\nL 79.890625 32.71875 \r\nQ 79.890625 40.578125 77.09375 44.375 \r\nQ 74.3125 48.1875 68.609375 48.1875 \r\nQ 61.625 48.1875 57.5625 43.546875 \r\nQ 53.515625 38.921875 53.515625 30.90625 \r\nL 53.515625 0 \r\nL 44.484375 0 \r\nL 44.484375 32.71875 \r\nQ 44.484375 40.625 41.703125 44.40625 \r\nQ 38.921875 48.1875 33.109375 48.1875 \r\nQ 26.21875 48.1875 22.15625 43.53125 \r\nQ 18.109375 38.875 18.109375 30.90625 \r\nL 18.109375 0 \r\nL 9.078125 0 \r\nL 9.078125 54.6875 \r\nL 18.109375 54.6875 \r\nL 18.109375 46.1875 \r\nQ 21.1875 51.21875 25.484375 53.609375 \r\nQ 29.78125 56 35.6875 56 \r\nQ 41.65625 56 45.828125 52.96875 \r\nQ 50 49.953125 52 44.1875 \r\nz\r\n\" id=\"DejaVuSans-109\"/>\r\n    <path id=\"DejaVuSans-32\"/>\r\n    <path d=\"M 64.40625 67.28125 \r\nL 64.40625 56.890625 \r\nQ 59.421875 61.53125 53.78125 63.8125 \r\nQ 48.140625 66.109375 41.796875 66.109375 \r\nQ 29.296875 66.109375 22.65625 58.46875 \r\nQ 16.015625 50.828125 16.015625 36.375 \r\nQ 16.015625 21.96875 22.65625 14.328125 \r\nQ 29.296875 6.6875 41.796875 6.6875 \r\nQ 48.140625 6.6875 53.78125 8.984375 \r\nQ 59.421875 11.28125 64.40625 15.921875 \r\nL 64.40625 5.609375 \r\nQ 59.234375 2.09375 53.4375 0.328125 \r\nQ 47.65625 -1.421875 41.21875 -1.421875 \r\nQ 24.65625 -1.421875 15.125 8.703125 \r\nQ 5.609375 18.84375 5.609375 36.375 \r\nQ 5.609375 53.953125 15.125 64.078125 \r\nQ 24.65625 74.21875 41.21875 74.21875 \r\nQ 47.75 74.21875 53.53125 72.484375 \r\nQ 59.328125 70.75 64.40625 67.28125 \r\nz\r\n\" id=\"DejaVuSans-67\"/>\r\n    <path d=\"M 18.109375 8.203125 \r\nL 18.109375 -20.796875 \r\nL 9.078125 -20.796875 \r\nL 9.078125 54.6875 \r\nL 18.109375 54.6875 \r\nL 18.109375 46.390625 \r\nQ 20.953125 51.265625 25.265625 53.625 \r\nQ 29.59375 56 35.59375 56 \r\nQ 45.5625 56 51.78125 48.09375 \r\nQ 58.015625 40.1875 58.015625 27.296875 \r\nQ 58.015625 14.40625 51.78125 6.484375 \r\nQ 45.5625 -1.421875 35.59375 -1.421875 \r\nQ 29.59375 -1.421875 25.265625 0.953125 \r\nQ 20.953125 3.328125 18.109375 8.203125 \r\nz\r\nM 48.6875 27.296875 \r\nQ 48.6875 37.203125 44.609375 42.84375 \r\nQ 40.53125 48.484375 33.40625 48.484375 \r\nQ 26.265625 48.484375 22.1875 42.84375 \r\nQ 18.109375 37.203125 18.109375 27.296875 \r\nQ 18.109375 17.390625 22.1875 11.75 \r\nQ 26.265625 6.109375 33.40625 6.109375 \r\nQ 40.53125 6.109375 44.609375 11.75 \r\nQ 48.6875 17.390625 48.6875 27.296875 \r\nz\r\n\" id=\"DejaVuSans-112\"/>\r\n    <path d=\"M 34.28125 27.484375 \r\nQ 23.390625 27.484375 19.1875 25 \r\nQ 14.984375 22.515625 14.984375 16.5 \r\nQ 14.984375 11.71875 18.140625 8.90625 \r\nQ 21.296875 6.109375 26.703125 6.109375 \r\nQ 34.1875 6.109375 38.703125 11.40625 \r\nQ 43.21875 16.703125 43.21875 25.484375 \r\nL 43.21875 27.484375 \r\nz\r\nM 52.203125 31.203125 \r\nL 52.203125 0 \r\nL 43.21875 0 \r\nL 43.21875 8.296875 \r\nQ 40.140625 3.328125 35.546875 0.953125 \r\nQ 30.953125 -1.421875 24.3125 -1.421875 \r\nQ 15.921875 -1.421875 10.953125 3.296875 \r\nQ 6 8.015625 6 15.921875 \r\nQ 6 25.140625 12.171875 29.828125 \r\nQ 18.359375 34.515625 30.609375 34.515625 \r\nL 43.21875 34.515625 \r\nL 43.21875 35.40625 \r\nQ 43.21875 41.609375 39.140625 45 \r\nQ 35.0625 48.390625 27.6875 48.390625 \r\nQ 23 48.390625 18.546875 47.265625 \r\nQ 14.109375 46.140625 10.015625 43.890625 \r\nL 10.015625 52.203125 \r\nQ 14.9375 54.109375 19.578125 55.046875 \r\nQ 24.21875 56 28.609375 56 \r\nQ 40.484375 56 46.34375 49.84375 \r\nQ 52.203125 43.703125 52.203125 31.203125 \r\nz\r\n\" id=\"DejaVuSans-97\"/>\r\n    <path d=\"M 44.28125 53.078125 \r\nL 44.28125 44.578125 \r\nQ 40.484375 46.53125 36.375 47.5 \r\nQ 32.28125 48.484375 27.875 48.484375 \r\nQ 21.1875 48.484375 17.84375 46.4375 \r\nQ 14.5 44.390625 14.5 40.28125 \r\nQ 14.5 37.15625 16.890625 35.375 \r\nQ 19.28125 33.59375 26.515625 31.984375 \r\nL 29.59375 31.296875 \r\nQ 39.15625 29.25 43.1875 25.515625 \r\nQ 47.21875 21.78125 47.21875 15.09375 \r\nQ 47.21875 7.46875 41.1875 3.015625 \r\nQ 35.15625 -1.421875 24.609375 -1.421875 \r\nQ 20.21875 -1.421875 15.453125 -0.5625 \r\nQ 10.6875 0.296875 5.421875 2 \r\nL 5.421875 11.28125 \r\nQ 10.40625 8.6875 15.234375 7.390625 \r\nQ 20.0625 6.109375 24.8125 6.109375 \r\nQ 31.15625 6.109375 34.5625 8.28125 \r\nQ 37.984375 10.453125 37.984375 14.40625 \r\nQ 37.984375 18.0625 35.515625 20.015625 \r\nQ 33.0625 21.96875 24.703125 23.78125 \r\nL 21.578125 24.515625 \r\nQ 13.234375 26.265625 9.515625 29.90625 \r\nQ 5.8125 33.546875 5.8125 39.890625 \r\nQ 5.8125 47.609375 11.28125 51.796875 \r\nQ 16.75 56 26.8125 56 \r\nQ 31.78125 56 36.171875 55.265625 \r\nQ 40.578125 54.546875 44.28125 53.078125 \r\nz\r\n\" id=\"DejaVuSans-115\"/>\r\n    <path d=\"M 54.890625 33.015625 \r\nL 54.890625 0 \r\nL 45.90625 0 \r\nL 45.90625 32.71875 \r\nQ 45.90625 40.484375 42.875 44.328125 \r\nQ 39.84375 48.1875 33.796875 48.1875 \r\nQ 26.515625 48.1875 22.3125 43.546875 \r\nQ 18.109375 38.921875 18.109375 30.90625 \r\nL 18.109375 0 \r\nL 9.078125 0 \r\nL 9.078125 54.6875 \r\nL 18.109375 54.6875 \r\nL 18.109375 46.1875 \r\nQ 21.34375 51.125 25.703125 53.5625 \r\nQ 30.078125 56 35.796875 56 \r\nQ 45.21875 56 50.046875 50.171875 \r\nQ 54.890625 44.34375 54.890625 33.015625 \r\nz\r\n\" id=\"DejaVuSans-110\"/>\r\n   </defs>\r\n   <g transform=\"translate(130.089687 16.318125)scale(0.12 -0.12)\">\r\n    <use xlink:href=\"#DejaVuSans-65\"/>\r\n    <use x=\"68.408203\" xlink:href=\"#DejaVuSans-108\"/>\r\n    <use x=\"96.191406\" xlink:href=\"#DejaVuSans-103\"/>\r\n    <use x=\"159.667969\" xlink:href=\"#DejaVuSans-111\"/>\r\n    <use x=\"220.849609\" xlink:href=\"#DejaVuSans-114\"/>\r\n    <use x=\"261.962891\" xlink:href=\"#DejaVuSans-105\"/>\r\n    <use x=\"289.746094\" xlink:href=\"#DejaVuSans-116\"/>\r\n    <use x=\"328.955078\" xlink:href=\"#DejaVuSans-104\"/>\r\n    <use x=\"392.333984\" xlink:href=\"#DejaVuSans-109\"/>\r\n    <use x=\"489.746094\" xlink:href=\"#DejaVuSans-32\"/>\r\n    <use x=\"521.533203\" xlink:href=\"#DejaVuSans-67\"/>\r\n    <use x=\"591.357422\" xlink:href=\"#DejaVuSans-111\"/>\r\n    <use x=\"652.539062\" xlink:href=\"#DejaVuSans-109\"/>\r\n    <use x=\"749.951172\" xlink:href=\"#DejaVuSans-112\"/>\r\n    <use x=\"813.427734\" xlink:href=\"#DejaVuSans-97\"/>\r\n    <use x=\"874.707031\" xlink:href=\"#DejaVuSans-114\"/>\r\n    <use x=\"915.820312\" xlink:href=\"#DejaVuSans-105\"/>\r\n    <use x=\"943.603516\" xlink:href=\"#DejaVuSans-115\"/>\r\n    <use x=\"995.703125\" xlink:href=\"#DejaVuSans-111\"/>\r\n    <use x=\"1056.884766\" xlink:href=\"#DejaVuSans-110\"/>\r\n   </g>\r\n  </g>\r\n </g>\r\n <defs>\r\n  <clipPath id=\"pa3dc571e55\">\r\n   <rect height=\"217.44\" width=\"334.8\" x=\"35.304688\" y=\"36\"/>\r\n  </clipPath>\r\n </defs>\r\n</svg>\r\n",
      "image/png": "[encoded data removed]"
     },
     "metadata": {
      "needs_background": "light"
     }
    }
   ],
   "source": [
    "import pandas\n",
    "import matplotlib.pyplot as plt\n",
    "from sklearn import model_selection\n",
    "from sklearn.linear_model import LinearRegression\n",
    "from sklearn.model_selection import train_test_split\n",
    "from sklearn.preprocessing import PolynomialFeatures\n",
    "from sklearn.svm import SVR\n",
    "from sklearn.tree import DecisionTreeRegressor\n",
    "from sklearn.ensemble import RandomForestRegressor\n",
    "\n",
    "import numpy as np\n",
    "\n",
    "# prepare configuration for cross validation test harness\n",
    "seed = 7\n",
    "\n",
    "# prepare models\n",
    "models = []\n",
    "models.append(('LR', LinearRegression()))\n",
    "models.append(('PR', LinearRegression()))\n",
    "models.append(('SVR', SVR(kernel = 'rbf')))\n",
    "models.append(('DTR', DecisionTreeRegressor()))\n",
    "models.append(('RFR', RandomForestRegressor(n_estimators = 10)))\n",
    "\n",
    "\n",
    "# evaluate each model in turn\n",
    "results = []\n",
    "names = []\n",
    "scoring = 'neg_root_mean_squared_error'\n",
    "for name, model in models:\n",
    "    kfold = model_selection.KFold(n_splits=4, random_state=seed)\n",
    "    if name == 'PR':\n",
    "        poly_reg = PolynomialFeatures(degree = 4)\n",
    "        X_poly = poly_reg.fit_transform(X_train)\n",
    "        cv_results = model_selection.cross_val_score(model, X_poly, y_train.ravel(), cv=kfold, scoring=scoring)\n",
    "    else:\n",
    "        cv_results = model_selection.cross_val_score(model, X_train, y_train.ravel(), cv=kfold, scoring=scoring)\n",
    "\n",
    "    results.append(cv_results)\n",
    "    names.append(name)\n",
    "    msg = \"%s: %f (%f)\" % (name, cv_results.mean(), cv_results.std())\n",
    "\n",
    "# boxplot algorithm comparison\n",
    "fig = plt.figure()\n",
    "fig.suptitle('Algorithm Comparison')\n",
    "ax = fig.add_subplot(111)\n",
    "plt.boxplot(results)\n",
    "ax.set_xticklabels(names)\n",
    "plt.show()"
   ]
  },
  {
   "cell_type": "code",
   "execution_count": 17,
   "metadata": {
    "tags": []
   },
   "outputs": [
    {
     "output_type": "stream",
     "name": "stdout",
     "text": "score of model: 0.9998059078428377\nSaved successfully\n"
    },
    {
     "output_type": "execute_result",
     "data": {
      "text/plain": "RandomForestRegressor(n_estimators=49, warm_start=True)"
     },
     "metadata": {},
     "execution_count": 17
    }
   ],
   "source": [
    "main(df=df, X_values=X)"
   ]
  },
  {
   "cell_type": "code",
   "execution_count": 45,
   "metadata": {},
   "outputs": [
    {
     "output_type": "execute_result",
     "data": {
      "text/plain": "sklearn.ensemble._forest.RandomForestRegressor"
     },
     "metadata": {},
     "execution_count": 45
    }
   ],
   "source": [
    "import pickle\n",
    "\n",
    "with open(file=\"try_5.sav\", mode=\"rb\") as model_save:\n",
    "    model = pickle.load(model_save)\n",
    "type(model)"
   ]
  },
  {
   "cell_type": "code",
   "execution_count": 46,
   "metadata": {},
   "outputs": [
    {
     "output_type": "error",
     "ename": "ValueError",
     "evalue": "Number of features of the model must match the input. Model n_features is 10 and input n_features is 30 ",
     "traceback": [
      "\u001b[1;31m---------------------------------------------------------------------------\u001b[0m",
      "\u001b[1;31mValueError\u001b[0m                                Traceback (most recent call last)",
      "\u001b[1;32m<ipython-input-46-5f57a2addee5>\u001b[0m in \u001b[0;36m<module>\u001b[1;34m\u001b[0m\n\u001b[1;32m----> 1\u001b[1;33m \u001b[0my_pred\u001b[0m \u001b[1;33m=\u001b[0m \u001b[0mmodel\u001b[0m\u001b[1;33m.\u001b[0m\u001b[0mpredict\u001b[0m\u001b[1;33m(\u001b[0m\u001b[0mX_test\u001b[0m\u001b[1;33m)\u001b[0m\u001b[1;33m\u001b[0m\u001b[1;33m\u001b[0m\u001b[0m\n\u001b[0m\u001b[0;32m      2\u001b[0m \u001b[1;32mfrom\u001b[0m \u001b[0msklearn\u001b[0m\u001b[1;33m.\u001b[0m\u001b[0mmetrics\u001b[0m \u001b[1;32mimport\u001b[0m \u001b[0mmean_squared_error\u001b[0m\u001b[1;33m\u001b[0m\u001b[1;33m\u001b[0m\u001b[0m\n\u001b[0;32m      3\u001b[0m \u001b[0mmean_squared_error\u001b[0m\u001b[1;33m(\u001b[0m\u001b[0my_test\u001b[0m\u001b[1;33m,\u001b[0m \u001b[0my_pred\u001b[0m\u001b[1;33m)\u001b[0m\u001b[1;33m\u001b[0m\u001b[1;33m\u001b[0m\u001b[0m\n",
      "\u001b[1;32m~\\AppData\\Roaming\\Python\\Python38\\site-packages\\sklearn\\ensemble\\_forest.py\u001b[0m in \u001b[0;36mpredict\u001b[1;34m(self, X)\u001b[0m\n\u001b[0;32m    781\u001b[0m         \u001b[0mcheck_is_fitted\u001b[0m\u001b[1;33m(\u001b[0m\u001b[0mself\u001b[0m\u001b[1;33m)\u001b[0m\u001b[1;33m\u001b[0m\u001b[1;33m\u001b[0m\u001b[0m\n\u001b[0;32m    782\u001b[0m         \u001b[1;31m# Check data\u001b[0m\u001b[1;33m\u001b[0m\u001b[1;33m\u001b[0m\u001b[1;33m\u001b[0m\u001b[0m\n\u001b[1;32m--> 783\u001b[1;33m         \u001b[0mX\u001b[0m \u001b[1;33m=\u001b[0m \u001b[0mself\u001b[0m\u001b[1;33m.\u001b[0m\u001b[0m_validate_X_predict\u001b[0m\u001b[1;33m(\u001b[0m\u001b[0mX\u001b[0m\u001b[1;33m)\u001b[0m\u001b[1;33m\u001b[0m\u001b[1;33m\u001b[0m\u001b[0m\n\u001b[0m\u001b[0;32m    784\u001b[0m \u001b[1;33m\u001b[0m\u001b[0m\n\u001b[0;32m    785\u001b[0m         \u001b[1;31m# Assign chunk of trees to jobs\u001b[0m\u001b[1;33m\u001b[0m\u001b[1;33m\u001b[0m\u001b[1;33m\u001b[0m\u001b[0m\n",
      "\u001b[1;32m~\\AppData\\Roaming\\Python\\Python38\\site-packages\\sklearn\\ensemble\\_forest.py\u001b[0m in \u001b[0;36m_validate_X_predict\u001b[1;34m(self, X)\u001b[0m\n\u001b[0;32m    419\u001b[0m         \u001b[0mcheck_is_fitted\u001b[0m\u001b[1;33m(\u001b[0m\u001b[0mself\u001b[0m\u001b[1;33m)\u001b[0m\u001b[1;33m\u001b[0m\u001b[1;33m\u001b[0m\u001b[0m\n\u001b[0;32m    420\u001b[0m \u001b[1;33m\u001b[0m\u001b[0m\n\u001b[1;32m--> 421\u001b[1;33m         \u001b[1;32mreturn\u001b[0m \u001b[0mself\u001b[0m\u001b[1;33m.\u001b[0m\u001b[0mestimators_\u001b[0m\u001b[1;33m[\u001b[0m\u001b[1;36m0\u001b[0m\u001b[1;33m]\u001b[0m\u001b[1;33m.\u001b[0m\u001b[0m_validate_X_predict\u001b[0m\u001b[1;33m(\u001b[0m\u001b[0mX\u001b[0m\u001b[1;33m,\u001b[0m \u001b[0mcheck_input\u001b[0m\u001b[1;33m=\u001b[0m\u001b[1;32mTrue\u001b[0m\u001b[1;33m)\u001b[0m\u001b[1;33m\u001b[0m\u001b[1;33m\u001b[0m\u001b[0m\n\u001b[0m\u001b[0;32m    422\u001b[0m \u001b[1;33m\u001b[0m\u001b[0m\n\u001b[0;32m    423\u001b[0m     \u001b[1;33m@\u001b[0m\u001b[0mproperty\u001b[0m\u001b[1;33m\u001b[0m\u001b[1;33m\u001b[0m\u001b[0m\n",
      "\u001b[1;32m~\\AppData\\Roaming\\Python\\Python38\\site-packages\\sklearn\\tree\\_classes.py\u001b[0m in \u001b[0;36m_validate_X_predict\u001b[1;34m(self, X, check_input)\u001b[0m\n\u001b[0;32m    394\u001b[0m         \u001b[0mn_features\u001b[0m \u001b[1;33m=\u001b[0m \u001b[0mX\u001b[0m\u001b[1;33m.\u001b[0m\u001b[0mshape\u001b[0m\u001b[1;33m[\u001b[0m\u001b[1;36m1\u001b[0m\u001b[1;33m]\u001b[0m\u001b[1;33m\u001b[0m\u001b[1;33m\u001b[0m\u001b[0m\n\u001b[0;32m    395\u001b[0m         \u001b[1;32mif\u001b[0m \u001b[0mself\u001b[0m\u001b[1;33m.\u001b[0m\u001b[0mn_features_\u001b[0m \u001b[1;33m!=\u001b[0m \u001b[0mn_features\u001b[0m\u001b[1;33m:\u001b[0m\u001b[1;33m\u001b[0m\u001b[1;33m\u001b[0m\u001b[0m\n\u001b[1;32m--> 396\u001b[1;33m             raise ValueError(\"Number of features of the model must \"\n\u001b[0m\u001b[0;32m    397\u001b[0m                              \u001b[1;34m\"match the input. Model n_features is %s and \"\u001b[0m\u001b[1;33m\u001b[0m\u001b[1;33m\u001b[0m\u001b[0m\n\u001b[0;32m    398\u001b[0m                              \u001b[1;34m\"input n_features is %s \"\u001b[0m\u001b[1;33m\u001b[0m\u001b[1;33m\u001b[0m\u001b[0m\n",
      "\u001b[1;31mValueError\u001b[0m: Number of features of the model must match the input. Model n_features is 10 and input n_features is 30 "
     ]
    }
   ],
   "source": [
    "y_pred = model.predict(X_test)\n",
    "from sklearn.metrics import mean_squared_error\n",
    "mean_squared_error(y_test, y_pred)"
   ]
  },
  {
   "cell_type": "code",
   "execution_count": 37,
   "metadata": {
    "tags": []
   },
   "outputs": [
    {
     "output_type": "stream",
     "name": "stdout",
     "text": "0.01522400601324165\n0.03079690394835432\n0.05362303340540265\n0.005545936578889917\n0.016292967556228055\n0.08933409926825668\n0.0009994744228309807\n0.03234138597124785\n0.006075717133777136\n0.039579646922259765\n"
    }
   ],
   "source": [
    "from sklearn.model_selection import RepeatedKFold, KFold\n",
    "n_splits_x_test = 10\n",
    "# val es un trozo que nunca se repite\n",
    "for (_, one_split) in KFold(n_splits=n_splits_x_test).split(X_test):\n",
    "    y_pred = model3.predict(X_test[one_split])\n",
    "    print(mean_squared_error(y_test[one_split], y_pred))"
   ]
  },
  {
   "source": [
    "## Making prediction"
   ],
   "cell_type": "markdown",
   "metadata": {}
  },
  {
   "cell_type": "code",
   "execution_count": 38,
   "metadata": {},
   "outputs": [],
   "source": [
    "to_pred = pd.read_csv(\"test_set.csv\")"
   ]
  },
  {
   "cell_type": "code",
   "execution_count": 39,
   "metadata": {},
   "outputs": [],
   "source": [
    "to_pred = pd.get_dummies(to_pred)"
   ]
  },
  {
   "cell_type": "code",
   "execution_count": 148,
   "metadata": {},
   "outputs": [],
   "source": [
    "to_pred = my_transformation(df=to_pred, norm=False, drop_nans=False, drop_dupl=False, my_decision=0)"
   ]
  },
  {
   "cell_type": "code",
   "execution_count": 64,
   "metadata": {},
   "outputs": [],
   "source": [
    "from sklearn.decomposition import PCA\n",
    "pca = PCA(n_components=0.999)\n",
    "pca.fit(to_pred)\n",
    "to_pred = pca.transform(to_pred)"
   ]
  },
  {
   "cell_type": "code",
   "execution_count": 40,
   "metadata": {},
   "outputs": [],
   "source": [
    "predictions = model3.predict(to_pred)"
   ]
  },
  {
   "cell_type": "code",
   "execution_count": 41,
   "metadata": {},
   "outputs": [
    {
     "output_type": "execute_result",
     "data": {
      "text/plain": "          id  price\n0      18019  58.80\n1      10977  20.00\n2       3461  86.05\n3       9964  82.60\n4      35955  61.95\n...      ...    ...\n29175  25614  31.10\n29176  35667  35.00\n29177  38049  74.40\n29178  20679  24.95\n29179  13608  31.10\n\n[29180 rows x 2 columns]",
      "text/html": "<div>\n<style scoped>\n    .dataframe tbody tr th:only-of-type {\n        vertical-align: middle;\n    }\n\n    .dataframe tbody tr th {\n        vertical-align: top;\n    }\n\n    .dataframe thead th {\n        text-align: right;\n    }\n</style>\n<table border=\"1\" class=\"dataframe\">\n  <thead>\n    <tr style=\"text-align: right;\">\n      <th></th>\n      <th>id</th>\n      <th>price</th>\n    </tr>\n  </thead>\n  <tbody>\n    <tr>\n      <th>0</th>\n      <td>18019</td>\n      <td>58.80</td>\n    </tr>\n    <tr>\n      <th>1</th>\n      <td>10977</td>\n      <td>20.00</td>\n    </tr>\n    <tr>\n      <th>2</th>\n      <td>3461</td>\n      <td>86.05</td>\n    </tr>\n    <tr>\n      <th>3</th>\n      <td>9964</td>\n      <td>82.60</td>\n    </tr>\n    <tr>\n      <th>4</th>\n      <td>35955</td>\n      <td>61.95</td>\n    </tr>\n    <tr>\n      <th>...</th>\n      <td>...</td>\n      <td>...</td>\n    </tr>\n    <tr>\n      <th>29175</th>\n      <td>25614</td>\n      <td>31.10</td>\n    </tr>\n    <tr>\n      <th>29176</th>\n      <td>35667</td>\n      <td>35.00</td>\n    </tr>\n    <tr>\n      <th>29177</th>\n      <td>38049</td>\n      <td>74.40</td>\n    </tr>\n    <tr>\n      <th>29178</th>\n      <td>20679</td>\n      <td>24.95</td>\n    </tr>\n    <tr>\n      <th>29179</th>\n      <td>13608</td>\n      <td>31.10</td>\n    </tr>\n  </tbody>\n</table>\n<p>29180 rows × 2 columns</p>\n</div>"
     },
     "metadata": {},
     "execution_count": 41
    }
   ],
   "source": [
    "sample = pd.read_csv(\"sample_submission.csv\")\n",
    "sample"
   ]
  },
  {
   "cell_type": "code",
   "execution_count": 42,
   "metadata": {},
   "outputs": [
    {
     "output_type": "execute_result",
     "data": {
      "text/plain": "          id       price\n0      18019  101.500000\n1      10977   81.700000\n2       3461   31.100000\n3       9964   30.100000\n4      35955   86.050000\n...      ...         ...\n29175  25614   31.100000\n29176  35667   80.550000\n29177  38049   31.100000\n29178  20679   91.494801\n29179  13608   55.700000\n\n[29180 rows x 2 columns]",
      "text/html": "<div>\n<style scoped>\n    .dataframe tbody tr th:only-of-type {\n        vertical-align: middle;\n    }\n\n    .dataframe tbody tr th {\n        vertical-align: top;\n    }\n\n    .dataframe thead th {\n        text-align: right;\n    }\n</style>\n<table border=\"1\" class=\"dataframe\">\n  <thead>\n    <tr style=\"text-align: right;\">\n      <th></th>\n      <th>id</th>\n      <th>price</th>\n    </tr>\n  </thead>\n  <tbody>\n    <tr>\n      <th>0</th>\n      <td>18019</td>\n      <td>101.500000</td>\n    </tr>\n    <tr>\n      <th>1</th>\n      <td>10977</td>\n      <td>81.700000</td>\n    </tr>\n    <tr>\n      <th>2</th>\n      <td>3461</td>\n      <td>31.100000</td>\n    </tr>\n    <tr>\n      <th>3</th>\n      <td>9964</td>\n      <td>30.100000</td>\n    </tr>\n    <tr>\n      <th>4</th>\n      <td>35955</td>\n      <td>86.050000</td>\n    </tr>\n    <tr>\n      <th>...</th>\n      <td>...</td>\n      <td>...</td>\n    </tr>\n    <tr>\n      <th>29175</th>\n      <td>25614</td>\n      <td>31.100000</td>\n    </tr>\n    <tr>\n      <th>29176</th>\n      <td>35667</td>\n      <td>80.550000</td>\n    </tr>\n    <tr>\n      <th>29177</th>\n      <td>38049</td>\n      <td>31.100000</td>\n    </tr>\n    <tr>\n      <th>29178</th>\n      <td>20679</td>\n      <td>91.494801</td>\n    </tr>\n    <tr>\n      <th>29179</th>\n      <td>13608</td>\n      <td>55.700000</td>\n    </tr>\n  </tbody>\n</table>\n<p>29180 rows × 2 columns</p>\n</div>"
     },
     "metadata": {},
     "execution_count": 42
    }
   ],
   "source": [
    "submission = pd.DataFrame({\"id\": sample[\"id\"], \"price\": predictions})\n",
    "submission"
   ]
  },
  {
   "cell_type": "code",
   "execution_count": 43,
   "metadata": {
    "tags": []
   },
   "outputs": [
    {
     "output_type": "stream",
     "name": "stdout",
     "text": "you're ready to submit!\n"
    }
   ],
   "source": [
    "if submission.shape == sample.shape:\n",
    "    if submission.columns.all() == sample.columns.all():\n",
    "        if submission.id.all() == sample.id.all():\n",
    "            print(\"you're ready to submit!\")\n",
    "            submission.to_csv(\"17th_try_to_submit.csv\", index = False)\n",
    "            # ¡¡¡¡¡¡¡ADD INDEX = FALSE!!!!!!!!!"
   ]
  },
  {
   "cell_type": "code",
   "execution_count": null,
   "metadata": {},
   "outputs": [],
   "source": []
  }
 ]
}